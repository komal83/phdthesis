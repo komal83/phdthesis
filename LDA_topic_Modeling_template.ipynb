{
  "nbformat": 4,
  "nbformat_minor": 0,
  "metadata": {
    "colab": {
      "name": "LDA topic Modeling template.ipynb",
      "provenance": [],
      "collapsed_sections": [],
      "authorship_tag": "ABX9TyOnsEa9BtkrXV967Q9guqsr",
      "include_colab_link": true
    },
    "kernelspec": {
      "name": "python3",
      "display_name": "Python 3"
    },
    "accelerator": "GPU"
  },
  "cells": [
    {
      "cell_type": "markdown",
      "metadata": {
        "id": "view-in-github",
        "colab_type": "text"
      },
      "source": [
        "<a href=\"https://colab.research.google.com/github/komal83/phdthesis/blob/main/LDA_topic_Modeling_template.ipynb\" target=\"_parent\"><img src=\"https://colab.research.google.com/assets/colab-badge.svg\" alt=\"Open In Colab\"/></a>"
      ]
    },
    {
      "cell_type": "code",
      "metadata": {
        "id": "i932tj4nXwF2"
      },
      "source": [
        "#@title Import Stuff\n",
        "!pip install spacy_udpipe\n",
        "!pip install pyLDAvis\n",
        "import nltk; nltk.download('stopwords')\n",
        "import os\n",
        "import glob\n",
        "import matplotlib\n",
        "import matplotlib.pyplot as plt\n",
        "from google.colab import drive\n",
        "import re\n",
        "import bz2\n",
        "import numpy as np\n",
        "import pandas as pd\n",
        "from pprint import pprint\n",
        "# Gensim\n",
        "import gensim\n",
        "import gensim.corpora as corpora\n",
        "from gensim.utils import simple_preprocess\n",
        "from gensim.models import CoherenceModel\n",
        "# spacy for lemmatization\n",
        "import spacy\n",
        "import spacy_udpipe\n",
        "# Plotting tools\n",
        "import pyLDAvis\n",
        "import pyLDAvis.gensim  # don't skip this\n",
        "import matplotlib.pyplot as plt\n",
        "%matplotlib inline\n",
        "\n",
        "# Enable logging for gensim - optional\n",
        "import logging\n",
        "logging.basicConfig(format='%(asctime)s : %(levelname)s : %(message)s', level=logging.ERROR)\n",
        "#logging.basicConfig(format='%(asctime)s : %(levelname)s : %(message)s', level=logging.INFO)\n",
        "import warnings\n",
        "warnings.filterwarnings(\"ignore\",category=DeprecationWarning)"
      ],
      "execution_count": null,
      "outputs": []
    },
    {
      "cell_type": "code",
      "metadata": {
        "id": "pV1KX5QcbIN0"
      },
      "source": [
        "#@title Drive Mount and data path\n",
        "from google.colab import drive\n",
        "drive.mount('/content/drive', force_remount=True)\n",
        "extension = 'bz2'\n",
        "os.chdir(\"<>\")"
      ],
      "execution_count": null,
      "outputs": []
    },
    {
      "cell_type": "code",
      "metadata": {
        "id": "OuVHNH9cvgOG"
      },
      "source": [
        "#@title Data Input corretto\n",
        "def getData(start,end):\n",
        "    df_list = list()\n",
        "    for d in pd.date_range(start,end):\n",
        "        filename = d.strftime('40wita_%Y-%m-%d.csv.bz2')\n",
        "        data = pd.read_csv(filename)\n",
        "        yield(data)\n",
        "        #print(filename)\n",
        "        #df_list.append(pd.read_csv(filename))\n",
        "        #df = pd.concat(df_list)\n",
        "        #df.head()\n",
        "        #print(df.size)\n",
        "        #df.head()\n",
        "        #yield(df) "
      ],
      "execution_count": null,
      "outputs": []
    },
    {
      "cell_type": "code",
      "metadata": {
        "id": "cP-338Frb7GI"
      },
      "source": [
        "data=[]\n",
        "id=[]\n",
        "text=[]\n",
        "input_data =[]\n",
        "day=[]\n",
        "for foo in getData('2020-02-01', '2020-04-30'):\n",
        "        #input_data= foo\n",
        "        #x = list(foo)\n",
        "        id.append(foo['id'])\n",
        "        text.append(foo['text'])\n",
        "        text=foo.text.values.tolist()\n",
        "        #text.append(foo.text.values.tolist())\n",
        "        #text=foo.text.values.tolist()\n",
        "        #print(id[0:3])\n",
        "        day.append(foo['day'])\n",
        "        #print(day[0:3])\n",
        "        #print(foo.day[0:3])\n",
        "        #print(x.day)\n",
        "data_input=list(zip(id,text,day))\n",
        "#print(day)   \n",
        "#print(data_input[0:3])     \n",
        "#print(input_data.day[0:4])\n",
        "#pprint(text)"
      ],
      "execution_count": null,
      "outputs": []
    },
    {
      "cell_type": "code",
      "metadata": {
        "id": "rLTh8J-8CmlH"
      },
      "source": [
        "#pprint(text[0:3])"
      ],
      "execution_count": null,
      "outputs": []
    },
    {
      "cell_type": "code",
      "metadata": {
        "id": "qfRJAcbsYVuL"
      },
      "source": [
        "#@title NLTK Stop words\n",
        "from nltk.corpus import stopwords\n",
        "stop_words = stopwords.words('italian')\n",
        "#stop_words.extend(['from', 'subject', 're', 'edu', 'use'])"
      ],
      "execution_count": null,
      "outputs": []
    },
    {
      "cell_type": "code",
      "metadata": {
        "id": "4vTGEUlPkRZx"
      },
      "source": [
        "#@title url removal\n",
        "# Convert to list\n",
        "data = text\n",
        "# Remove url\n",
        "data = [re.sub(r\"http\\S+\", \"\", sent) for sent in data]\n",
        "\n",
        "#pprint(data[:1])"
      ],
      "execution_count": null,
      "outputs": []
    },
    {
      "cell_type": "code",
      "metadata": {
        "id": "-JJjtKKMnaxS"
      },
      "source": [
        "#@title def funzione tokenizzazione e stop words removal\n",
        "\n",
        "\n",
        "    \n",
        "def sent_to_words(sentences):\n",
        "    for sentence in sentences:\n",
        "        yield(gensim.utils.simple_preprocess(str(sentence), deacc=True))  # deacc=True removes punctuations\n",
        "\n",
        "def remove_stopwords(texts):\n",
        "    return [[word for word in simple_preprocess(str(doc)) if word not in stop_words] for doc in texts]\n",
        "\n"
      ],
      "execution_count": null,
      "outputs": []
    },
    {
      "cell_type": "code",
      "metadata": {
        "id": "WqPEqyzbhzpd"
      },
      "source": [
        "#@title Pre tokenizzazione con gensim\n",
        "data_words = list(sent_to_words(data))\n",
        "#pprint(data_words[:1])"
      ],
      "execution_count": null,
      "outputs": []
    },
    {
      "cell_type": "code",
      "metadata": {
        "id": "YsNbZw9Hns2x"
      },
      "source": [
        "#@title Remove Stop Words\n",
        "data_words_nostops = remove_stopwords(data_words)\n",
        "#print(data_words_nostops[:1])"
      ],
      "execution_count": null,
      "outputs": []
    },
    {
      "cell_type": "code",
      "metadata": {
        "id": "5RzrrOWWLCuT"
      },
      "source": [
        "#@title Def lemmatization Function\n",
        "def lemmatization(texts, allowed_postags=['NOUN', 'ADJ', 'VERB', 'ADV']):\n",
        "    \"\"\"https://spacy.io/api/annotation\"\"\"\n",
        "    texts_out = []\n",
        "    for sent in texts:\n",
        "        doc = nlp(\" \".join(sent)) \n",
        "        texts_out.append([token.lemma_ for token in doc if token.pos_ in allowed_postags])\n",
        "    return texts_out\n"
      ],
      "execution_count": null,
      "outputs": []
    },
    {
      "cell_type": "code",
      "metadata": {
        "id": "tm-H-oNwLPEH"
      },
      "source": [
        "# Initialize spacy 'en' model, keeping only tagger component (for efficiency)\n",
        "nlp=spacy_udpipe.load_from_path(lang=\"it\",\n",
        "                                  path=\"<italian-postwita-ud-2.5-191206.udpipe>\",\n",
        "                                  meta={\"description\": \"Custom 'it' model\"}, disable=['parser', 'ner'])\n",
        "\n",
        "# Do lemmatization keeping only noun, adj, vb, adv\n",
        "data_lemmatized = lemmatization(data_words_nostops, allowed_postags=['NOUN', 'ADJ', 'VERB', 'ADV'])"
      ],
      "execution_count": null,
      "outputs": []
    },
    {
      "cell_type": "code",
      "metadata": {
        "id": "tJpRQbUZSyOY"
      },
      "source": [
        "#@title  Create Dictionary\n",
        "id2word = corpora.Dictionary(data_lemmatized)\n",
        "\n",
        "# Create Corpus\n",
        "texts = data_lemmatized\n",
        "\n",
        "# Term Document Frequency\n",
        "corpus = [id2word.doc2bow(text) for text in texts]\n",
        "\n",
        "# View\n",
        "#print(corpus[:1])"
      ],
      "execution_count": null,
      "outputs": []
    },
    {
      "cell_type": "code",
      "metadata": {
        "id": "Lk7yb_oQS6OK"
      },
      "source": [
        "# Human readable format of corpus (term-frequency)\n",
        "[[(id2word[id], freq) for id, freq in cp] for cp in corpus[:1]]"
      ],
      "execution_count": null,
      "outputs": []
    },
    {
      "cell_type": "code",
      "metadata": {
        "id": "e-Y-YS4sbEBE"
      },
      "source": [
        "#@title LDA Function\n",
        "\n",
        "def lda(num_topics,chunksize,passes,eval_every):\n",
        "    #result=pd.DataFrame()\n",
        "    lda_model = gensim.models.ldamodel.LdaModel(corpus=corpus,\n",
        "                                           id2word=id2word,\n",
        "                                           num_topics=num_topics, \n",
        "                                           random_state=100,\n",
        "                                           update_every=1,\n",
        "                                           chunksize=chunksize,\n",
        "                                           passes=passes,\n",
        "                                           eval_every=eval_every,\n",
        "                                           alpha='auto',\n",
        "                                           per_word_topics=True)\n",
        "    coherence_model_lda = CoherenceModel(model=lda_model, texts=data_lemmatized, dictionary=id2word, coherence='c_v')\n",
        "    coherence_lda = coherence_model_lda.get_coherence()\n",
        "    perplexity = lda_model.log_perplexity(corpus)\n",
        "    result= {   \n",
        "        'perplexity': perplexity, \n",
        "        'coherence_score':coherence_lda, \n",
        "        'num_topics':num_topics,\n",
        "        'chunksize':chunksize,\n",
        "        'passes':passes\n",
        "    }\n",
        "    print('\\nCoherence Score: ', coherence_lda)\n",
        "    print('\\nPerplexity: ', perplexity)\n",
        "    print(result)\n",
        "    #pprint(lda_model.print_topics())\n",
        "    return lda_model, result"
      ],
      "execution_count": null,
      "outputs": []
    },
    {
      "cell_type": "code",
      "metadata": {
        "id": "g0hBbbIXbxjC"
      },
      "source": [
        "#@title LDA run on one single set of parameter\n",
        "'''foo=lda(50,50,10,1)\n",
        "#pprint(foo)\n",
        "result=foo.DataFrame()'''"
      ],
      "execution_count": null,
      "outputs": []
    },
    {
      "cell_type": "code",
      "metadata": {
        "id": "35GyYVI1lvPr"
      },
      "source": [
        "#@title LDA cycle over different parameters: num_topics,chunksize,passes,eval_every\n",
        "result_df=pd.DataFrame()    \n",
        "for i in range(50):\n",
        "    #lda(num_topics,chunksize,passes,eval_every)\n",
        "    lda_model, lda_result=lda( i+1, 50,10,10)\n",
        "    result_df=result_df.append(lda_result, ignore_index=True)    "
      ],
      "execution_count": null,
      "outputs": []
    },
    {
      "cell_type": "code",
      "metadata": {
        "id": "HNrXlEXzbHk7"
      },
      "source": [
        "#print(result_df)\n",
        "#print(result_df['coherence_score'])"
      ],
      "execution_count": null,
      "outputs": []
    },
    {
      "cell_type": "code",
      "metadata": {
        "id": "Jxb5IO1Sdnr-"
      },
      "source": [
        "#@title Plot coherence score\n",
        "plt.plot(result_df['num_topics'],result_df['coherence_score'])\n",
        "plt.xlabel('Num topics') \n",
        "plt.ylabel('coherence score') \n",
        "plt.title(\"Coherence 50 Topics all dataset\")\n",
        "plt.grid()\n",
        "plt.savefig(\"<coherence_figure>\")\n",
        "plt.close()"
      ],
      "execution_count": null,
      "outputs": []
    },
    {
      "cell_type": "code",
      "metadata": {
        "id": "BfTVcFa-zN7f"
      },
      "source": [
        "#@title Plot perplexity score\n",
        "plt.plot(result_df['num_topics'],result_df['perplexity'])\n",
        "plt.xlabel('Num topics') \n",
        "plt.ylabel('Perplexity') \n",
        "plt.title(\"Perplexity 50 Topics all dataset\")\n",
        "plt.grid()\n",
        "plt.savefig(\"<perplexity figure>\")\n",
        "plt.close()"
      ],
      "execution_count": null,
      "outputs": []
    },
    {
      "cell_type": "code",
      "metadata": {
        "id": "3Mk24ow-nBmJ"
      },
      "source": [
        "with open('/content/drive/My Drive/COVID-19/results_50.csv','a' ) as fd:\n",
        "    result_df.to_csv(fd, index= True)"
      ],
      "execution_count": null,
      "outputs": []
    },
    {
      "cell_type": "code",
      "metadata": {
        "id": "DhtWJ5-XTl3c"
      },
      "source": [
        "#@title  save the model\n",
        "lda_model.save('<lda model path>')"
      ],
      "execution_count": null,
      "outputs": []
    },
    {
      "cell_type": "code",
      "metadata": {
        "id": "7jbx6hBVS_yY"
      },
      "source": [
        "#@title Print the Keyword in the N topics\n",
        "pprint(lda_model.print_topics())\n",
        "doc_lda = lda_model[corpus]"
      ],
      "execution_count": null,
      "outputs": []
    },
    {
      "cell_type": "code",
      "metadata": {
        "id": "wpfRG_gITLdH",
        "colab": {
          "base_uri": "https://localhost:8080/",
          "height": 861
        },
        "outputId": "9c647669-eaad-404d-f47d-1f5bb076397e"
      },
      "source": [
        "#@title  Visualize the topics\n",
        "pyLDAvis.enable_notebook()\n",
        "vis = pyLDAvis.gensim.prepare(lda_model, corpus, id2word)\n",
        "vis"
      ],
      "execution_count": null,
      "outputs": [
        {
          "output_type": "execute_result",
          "data": {
            "text/html": [
              "\n",
              "<link rel=\"stylesheet\" type=\"text/css\" href=\"https://cdn.rawgit.com/bmabey/pyLDAvis/files/ldavis.v1.0.0.css\">\n",
              "\n",
              "\n",
              "<div id=\"ldavis_el1231407130692888084607872782\"></div>\n",
              "<script type=\"text/javascript\">\n",
              "\n",
              "var ldavis_el1231407130692888084607872782_data = {\"mdsDat\": {\"x\": [0.08443513068161121, 0.3731159078386809, 0.06178643035763312, 0.010813820778908183, -0.01113440910975797, -0.030928612977782627, -0.022470614845213798, -0.026690357446027393, -0.03714669554414014, -0.02535311143797375, -0.04116708149223435, -0.033372086883539945, -0.039556332082090855, -0.02486176910461594, -0.02535331984331473, -0.03417411850231435, -0.041712755210537474, -0.04444652481455664, -0.043949044132065615, -0.04783445623066887], \"y\": [0.2493697059403872, -0.13604774718459467, 0.2643768502681138, 0.0109167569367647, -0.01909668320841114, -0.02462109143061004, -0.024312271497723224, -0.0228391301248409, -0.020207943294436936, -0.014591181031609892, -0.02602536484970524, -0.023293156565439396, -0.025628845193989797, -0.026322069046721654, -0.027382892329924573, -0.017891894709326332, -0.030613087941024294, -0.025239756296700215, -0.029681778013743606, -0.030868420426464132], \"topics\": [1, 2, 3, 4, 5, 6, 7, 8, 9, 10, 11, 12, 13, 14, 15, 16, 17, 18, 19, 20], \"cluster\": [1, 1, 1, 1, 1, 1, 1, 1, 1, 1, 1, 1, 1, 1, 1, 1, 1, 1, 1, 1], \"Freq\": [7.9716362953186035, 7.480344772338867, 6.655283451080322, 6.0580878257751465, 5.891833305358887, 5.096197128295898, 5.0717973709106445, 5.038410663604736, 4.7846479415893555, 4.771995544433594, 4.621941566467285, 4.614624500274658, 4.566985130310059, 4.563425064086914, 4.453968048095703, 4.248827934265137, 3.778345823287964, 3.6781091690063477, 3.4825856685638428, 3.1709532737731934]}, \"tinfo\": {\"Term\": [\"fare\", \"quarantena\", \"nuovo\", \"piu\", \"coronavirus\", \"dire\", \"morire\", \"maggio\", \"emergenza\", \"solo\", \"fase\", \"ora\", \"covid\", \"renzo\", \"aprile\", \"governo\", \"positivo\", \"giorno\", \"riaprire\", \"parlare\", \"guarito\", \"contagio\", \"casa\", \"tempo\", \"dare\", \"vedere\", \"oggi\", \"anno\", \"ancora\", \"conto\", \"ecco\", \"prima\", \"cosa\", \"bello\", \"aggiornamento\", \"usare\", \"grande\", \"caso\", \"guarire\", \"soldo\", \"famiglia\", \"lombardio\", \"servizio\", \"ripartire\", \"leggere\", \"piano\", \"decesso\", \"sentire\", \"premier\", \"bastare\", \"mezzo\", \"infezione\", \"aiutare\", \"aiuto\", \"idea\", \"portare\", \"intervista\", \"aspettare\", \"online\", \"unico\", \"quarantena\", \"piu\", \"solo\", \"giorno\", \"casa\", \"dare\", \"amico\", \"ospedale\", \"tornare\", \"cittadino\", \"video\", \"test\", \"mandare\", \"falso\", \"parlamento\", \"papa\", \"ufficio\", \"speciale\", \"affrontare\", \"svezia\", \"subito\", \"incubo\", \"ringraziare\", \"nero\", \"bisognare\", \"silenzio\", \"attesa\", \"rapporto\", \"zalone\", \"periodo\", \"paziento\", \"via\", \"finire\", \"politico\", \"bambino\", \"qui\", \"ragazzo\", \"sviluppere\", \"confermare\", \"trovare\", \"sembrare\", \"record\", \"riuscire\", \"matteorenzo\", \"lasciare\", \"quasi\", \"anti\", \"diventare\", \"scrivere\", \"misura\", \"nazionale\", \"monitoraggio\", \"punto\", \"pure\", \"tanto\", \"brutto\", \"invece\", \"polmonito\", \"mano\", \"secondo\", \"parlare\", \"tampone\", \"persona\", \"campania\", \"sempre\", \"paese\", \"virus\", \"guardare\", \"essere\", \"credere\", \"ministro\", \"iorestoacasa\", \"stare\", \"perdere\", \"mamma\", \"rendere\", \"marzo\", \"scoprire\", \"contagi\", \"notte\", \"pagare\", \"raccontare\", \"mangiare\", \"fondo\", \"renzare\", \"modo\", \"mare\", \"integrazione\", \"quindi\", \"alto\", \"covid\", \"guarito\", \"andare\", \"regione\", \"arrivare\", \"meno\", \"morto\", \"rischio\", \"malato\", \"lavorare\", \"amp\", \"trasmettere\", \"salvino\", \"sicilio\", \"continuare\", \"risposta\", \"intensivo\", \"salire\", \"terapio\", \"calo\", \"obbligo\", \"ricoverare\", \"effettuare\", \"impresa\", \"treno\", \"temere\", \"indicazione\", \"vittimo\", \"scenario\", \"preparare\", \"buono\", \"bergare\", \"capire\", \"sanitario\", \"pubblico\", \"bollettino\", \"po'\", \"stop\", \"news\", \"personale\", \"cane\", \"davvero\", \"pieno\", \"paura\", \"prossimo\", \"evitare\", \"superare\", \"bonus\", \"neanche\", \"economia\", \"minuto\", \"potere\", \"cimitero\", \"totale\", \"euro\", \"nascere\", \"parere\", \"ormai\", \"deceduto\", \"assembramento\", \"maggio\", \"ora\", \"positivo\", \"iniziare\", \"avere\", \"testa\", \"tv\", \"prendere\", \"cremonare\", \"meglio\", \"protezione\", \"consiglio\", \"provincia\", \"riprendere\", \"civile\", \"parchio\", \"kawasako\", \"risultato\", \"acqua\", \"stagione\", \"cura\", \"musico\", \"genitore\", \"serie\", \"romano\", \"sera\", \"irpinia\", \"anzi\", \"dedicare\", \"tavolo\", \"bero\", \"nuovo\", \"tempo\", \"ancora\", \"gia\", \"mondo\", \"ultimo\", \"vita\", \"cercare\", \"fuori\", \"toscano\", \"guarigione\", \"migliore\", \"male\", \"caldo\", \"esperto\", \"chiamare\", \"spazio\", \"milioni\", \"meto\", \"ritrovare\", \"tracciamento\", \"orario\", \"messa\", \"positive\", \"sistema\", \"funerale\", \"stipendio\", \"immaginare\", \"accesso\", \"collaborazione\", \"esistenza\", \"condividi\", \"estendere\", \"fase\", \"aprile\", \"iorestoacaso\", \"forte\", \"distanza\", \"partire\", \"studio\", \"volere\", \"problema\", \"frase\", \"gatto\", \"rispettare\", \"romare\", \"primomaggio\", \"non\", \"riaperturare\", \"minaccia\", \"dichiarare\", \"sicurezzo\", \"generale\", \"farmaco\", \"lungo\", \"inutile\", \"apertura\", \"cliente\", \"domenica\", \"cazzo\", \"limitazione\", \"vacanza\", \"vietare\", \"repubblica\", \"mese\", \"uscire\", \"fine\", \"bene\", \"ricordare\", \"tenere\", \"figlio\", \"molto\", \"aprire\", \"decreto\", \"sindaco\", \"passare\", \"foto\", \"comune\", \"diritto\", \"cittadinanza\", \"fino\", \"contagiare\", \"politica\", \"pandemia\", \"app\", \"spiagge\", \"giro\", \"vista\", \"costituzione\", \"soggetto\", \"fa\", \"visita\", \"greto\", \"contagio\", \"conto\", \"sierologico\", \"contagiato\", \"sociale\", \"vivere\", \"milione\", \"situazione\", \"colpa\", \"aumentare\", \"informazione\", \"povero\", \"donare\", \"piemonto\", \"giocare\", \"maggiore\", \"vergogna\", \"imprese\", \"dipendente\", \"biblioteco\", \"capo\", \"porte\", \"intanto\", \"creare\", \"decisione\", \"signore\", \"terremoto\", \"proseguono\", \"movimento\", \"mostro\", \"coronavirus\", \"dire\", \"notizia\", \"morte\", \"serio\", \"firmare\", \"poco\", \"calcio\", \"modello\", \"diretto\", \"fanpage\", \"seguire\", \"appello\", \"campionatare\", \"corone\", \"blocco\", \"congiunto\", \"scientifico\", \"volontario\", \"soluzione\", \"protocollo\", \"agosto\", \"sperare\", \"infettare\", \"prestire\", \"ridicolo\", \"luned\\u00ec\", \"mancanza\", \"aziendere\", \"volto\", \"renzi\", \"emergenza\", \"casi\", \"italiano\", \"mettere\", \"ammalare\", \"pronto\", \"paziente\", \"domanda\", \"medico\", \"discorso\", \"giovane\", \"ritornare\", \"fronte\", \"asintomatico\", \"almeno\", \"controllo\", \"aumento\", \"palermo\", \"attenzione\", \"contatto\", \"operare\", \"bergamasco\", \"base\", \"sperimentazione\", \"gallero\", \"malattio\", \"porto\", \"vergogno\", \"costiero\", \"ansia\", \"desidere\", \"vedere\", \"primo\", \"mai\", \"pensare\", \"poi\", \"lavoro\", \"gente\", \"venire\", \"salute\", \"comunque\", \"posto\", \"lavoratore\", \"denunciare\", \"reddito\", \"azienda\", \"regionale\", \"possibile\", \"salvare\", \"livello\", \"miliardo\", \"rispondere\", \"settore\", \"scherzare\", \"organizzare\", \"tagliare\", \"albanese\", \"giuseppeconteit\", \"lotta\", \"viaggiare\", \"pandemio\", \"tantissimo\", \"fare\", \"anno\", \"chiudere\", \"parte\", \"libero\", \"regole\", \"cambiare\", \"capello\", \"cinese\", \"cio\", \"scuola\", \"occhio\", \"confronto\", \"momento\", \"meritare\", \"scusare\", \"polemica\", \"russo\", \"dibattito\", \"differenza\", \"orizzonte\", \"trump\", \"facilmente\", \"purtroppo\", \"belgio\", \"segretario\", \"italiavivo\", \"fila\", \"disinformazione\", \"epidemio\", \"morire\", \"renzo\", \"oggi\", \"piazzapulito\", \"chiedere\", \"numero\", \"lockdown\", \"inizio\", \"liberto\", \"stampa\", \"giornalista\", \"sport\", \"crescita\", \"legare\", \"comunito\", \"reale\", \"migliaio\", \"debito\", \"fattoquotidiano\", \"sacrificio\", \"ballo\", \"palla\", \"necessario\", \"professionista\", \"grave\", \"eccetera\", \"amore\", \"ragionevole\", \"spaventare\", \"cioe\", \"gore\", \"volta\", \"forse\", \"settimana\", \"chiuso\", \"ieri\", \"servire\", \"scendere\", \"passire\", \"citta\", \"soprattutto\", \"entrare\", \"mascherine\", \"comunale\", \"isolamento\", \"anziano\", \"ragione\", \"edilizia\", \"sanito\", \"negozio\", \"fermare\", \"istitere\", \"strano\", \"augurare\", \"donazione\", \"pericoloso\", \"domicilio\", \"triste\", \"sopravvivere\", \"residenza\", \"sportivo\", \"disceso\", \"governo\", \"riaprire\", \"cosi\", \"ordinanza\", \"crisi\", \"domani\", \"ristorante\", \"presidente\", \"aperto\", \"parola\", \"senso\", \"criticare\", \"bar\", \"rischiare\", \"bare\", \"vergognare\", \"precedente\", \"rosso\", \"difendere\", \"curo\", \"indicatore\", \"frenare\", \"santello\", \"crollo\", \"calciatore\", \"fonte\", \"vendita\", \"certo\", \"ultimatum\", \"jole\", \"criticitare\", \"lesione\", \"brescia\", \"causa\", \"uomo\", \"lodo\", \"diretta\", \"conferenza\", \"attivo\", \"checco\", \"canzone\", \"decidere\", \"accordo\", \"donna\", \"speranza\", \"linea\", \"combattere\", \"scattare\", \"tasso\", \"metodo\", \"battere\", \"spesa\", \"imparare\", \"paolo\", \"disagio\", \"erogazione\", \"ambiente\", \"campagna\", \"testo\", \"favore\", \"polizia\", \"stabile\", \"smog\", \"sapere\", \"mascherina\", \"restare\", \"appena\", \"senare\", \"redditare\", \"conoscere\", \"youtuba\", \"commerciante\", \"avviare\", \"ridere\", \"messaggio\", \"breve\", \"prezzo\", \"imprenditore\", \"sostegno\", \"pane\", \"piangere\", \"tipo\", \"immune\", \"lamentare\", \"elettorale\", \"confusione\", \"chiarire\", \"articolo\", \"interessante\", \"particolare\", \"telefono\", \"roba\", \"democrazia\"], \"Freq\": [2421.0, 2035.0, 1451.0, 1639.0, 1333.0, 1191.0, 1094.0, 1133.0, 959.0, 1129.0, 961.0, 963.0, 906.0, 807.0, 776.0, 692.0, 764.0, 865.0, 659.0, 770.0, 742.0, 659.0, 773.0, 656.0, 745.0, 611.0, 588.0, 596.0, 575.0, 552.0, 570.8949584960938, 509.7715148925781, 394.9109802246094, 328.01898193359375, 310.5286865234375, 273.2144775390625, 259.19232177734375, 254.02159118652344, 253.11048889160156, 232.03829956054688, 231.04908752441406, 228.83282470703125, 227.57850646972656, 219.96429443359375, 214.329833984375, 207.2066192626953, 206.6433563232422, 195.02772521972656, 190.32322692871094, 186.54444885253906, 185.07241821289062, 174.12179565429688, 173.06216430664062, 171.09149169921875, 168.68408203125, 166.70326232910156, 161.35867309570312, 160.4119873046875, 157.29861450195312, 155.81715393066406, 2034.7403564453125, 1638.980712890625, 1128.702392578125, 864.83203125, 772.6838989257812, 744.757080078125, 403.9962463378906, 400.73529052734375, 367.95343017578125, 287.3434143066406, 282.2893981933594, 242.27684020996094, 146.06552124023438, 125.20256042480469, 123.51052856445312, 119.16743469238281, 110.03385162353516, 102.71612548828125, 97.0682601928711, 86.72172546386719, 85.64167022705078, 82.59382629394531, 78.49476623535156, 74.92716979980469, 74.18897247314453, 71.61347198486328, 67.11182403564453, 65.20079803466797, 65.06863403320312, 64.58184051513672, 432.38836669921875, 420.4543151855469, 351.9694519042969, 344.4835205078125, 339.1872863769531, 315.5721435546875, 299.6050720214844, 290.78460693359375, 290.57958984375, 284.6441955566406, 210.16876220703125, 197.01719665527344, 186.40980529785156, 176.6839141845703, 168.49374389648438, 164.35134887695312, 155.76553344726562, 146.20709228515625, 141.1159210205078, 139.50660705566406, 136.76260375976562, 135.5668182373047, 134.33128356933594, 131.6094970703125, 129.9810028076172, 122.80632781982422, 122.40689849853516, 120.26636505126953, 118.92015838623047, 118.62657928466797, 770.0233154296875, 487.8793640136719, 460.93255615234375, 408.75494384765625, 396.0158386230469, 360.6591491699219, 264.76129150390625, 208.83473205566406, 198.1592559814453, 193.04669189453125, 170.15162658691406, 167.29019165039062, 158.3334503173828, 152.98390197753906, 145.43295288085938, 143.7752685546875, 141.74383544921875, 139.4235382080078, 132.7765655517578, 130.68231201171875, 130.48043823242188, 117.78131866455078, 117.28117370605469, 116.8797378540039, 118.91590881347656, 107.87501525878906, 104.60553741455078, 98.66252899169922, 97.6916275024414, 96.66515350341797, 905.3049926757812, 741.7897338867188, 541.44287109375, 503.2685546875, 392.78570556640625, 383.1431884765625, 381.569091796875, 263.16387939453125, 257.1636657714844, 251.84579467773438, 247.18894958496094, 189.9148712158203, 186.75262451171875, 176.03170776367188, 163.69613647460938, 160.6280975341797, 147.08285522460938, 146.7601776123047, 143.36033630371094, 119.11051177978516, 113.97113800048828, 109.56913757324219, 94.29540252685547, 92.72139739990234, 91.58718872070312, 89.88142395019531, 83.10594177246094, 82.57893371582031, 81.06108856201172, 77.0422592163086, 340.7722473144531, 283.1693115234375, 266.23699951171875, 210.6924591064453, 198.0297393798828, 193.21258544921875, 192.53347778320312, 191.1575927734375, 189.39041137695312, 189.08103942871094, 174.7408905029297, 162.12237548828125, 160.29629516601562, 154.91233825683594, 129.02540588378906, 123.09642791748047, 121.09854125976562, 119.2956771850586, 114.33451080322266, 112.07279968261719, 110.51333618164062, 97.89716339111328, 95.68722534179688, 92.19904327392578, 90.56806945800781, 88.68170166015625, 84.98922729492188, 82.20001983642578, 81.1308822631836, 80.62480163574219, 1133.1451416015625, 962.74169921875, 763.5654907226562, 298.48248291015625, 271.2373046875, 240.55641174316406, 238.2239532470703, 194.6336669921875, 174.2763214111328, 164.0335693359375, 137.34803771972656, 133.69363403320312, 132.0168914794922, 120.35904693603516, 108.7330551147461, 105.46819305419922, 102.00563049316406, 99.432373046875, 96.29704284667969, 94.15962982177734, 84.06475067138672, 79.55561065673828, 75.39030456542969, 73.73773193359375, 72.89622497558594, 64.52639770507812, 60.85859680175781, 56.0566291809082, 55.72673416137695, 54.603515625, 58.6935920715332, 1450.9532470703125, 655.4005126953125, 574.8583984375, 538.8207397460938, 328.91265869140625, 328.8768005371094, 266.67376708984375, 145.71337890625, 132.55516052246094, 128.16949462890625, 114.89292907714844, 111.6675796508789, 111.1781234741211, 108.70600128173828, 86.44676971435547, 83.1562271118164, 77.89500427246094, 74.0945053100586, 72.96703338623047, 69.93692779541016, 61.87380599975586, 61.475521087646484, 60.806575775146484, 59.04896926879883, 58.86534118652344, 52.71974563598633, 52.68644714355469, 51.732078552246094, 50.36942672729492, 50.31334686279297, 107.31846618652344, 93.26319885253906, 60.338809967041016, 961.0799560546875, 775.5582275390625, 416.1615905761719, 275.177490234375, 213.69955444335938, 206.22726440429688, 196.0947723388672, 163.70925903320312, 162.9932403564453, 157.228759765625, 135.5765380859375, 130.8310089111328, 124.34547424316406, 124.03437042236328, 96.3831787109375, 88.29521942138672, 80.42086029052734, 79.84730529785156, 78.15525817871094, 76.68122863769531, 67.57942199707031, 64.84229278564453, 57.565189361572266, 51.456321716308594, 50.05457305908203, 49.4723014831543, 49.2138671875, 48.10009002685547, 45.4539680480957, 45.352569580078125, 554.8446044921875, 535.2940673828125, 459.8515319824219, 384.70684814453125, 330.42205810546875, 316.79766845703125, 225.8060302734375, 192.7902374267578, 186.42897033691406, 184.25686645507812, 182.6994171142578, 176.1457061767578, 147.3163299560547, 125.17017364501953, 120.2530517578125, 114.9401626586914, 112.55414581298828, 112.52642059326172, 104.78177642822266, 101.14236450195312, 91.69841766357422, 86.53717041015625, 82.63063049316406, 78.73265838623047, 75.36265563964844, 72.84461212158203, 65.56636810302734, 63.65386199951172, 63.12548065185547, 61.88694763183594, 658.3081665039062, 551.7848510742188, 289.3656311035156, 275.7855529785156, 272.8453063964844, 253.70069885253906, 224.57962036132812, 207.8281707763672, 138.40383911132812, 136.15451049804688, 126.54786682128906, 119.94126892089844, 100.97901153564453, 98.71288299560547, 86.36012268066406, 82.79645538330078, 73.7840347290039, 69.43264770507812, 68.9828109741211, 66.16787719726562, 63.64574432373047, 62.67985916137695, 61.319820404052734, 61.28379821777344, 60.53999710083008, 60.07219314575195, 59.195003509521484, 57.51896286010742, 54.01428985595703, 48.61142349243164, 1332.434814453125, 1190.351318359375, 360.1488342285156, 267.5707092285156, 252.67544555664062, 236.7091827392578, 217.37818908691406, 212.29420471191406, 140.17872619628906, 114.058837890625, 102.72587585449219, 101.30589294433594, 97.91609954833984, 92.8225326538086, 83.7503890991211, 79.93106842041016, 75.38883972167969, 74.25208282470703, 74.1694564819336, 74.02940368652344, 66.1832504272461, 63.67518997192383, 58.19572067260742, 52.58705139160156, 52.584659576416016, 52.094120025634766, 49.95091247558594, 47.375335693359375, 46.716339111328125, 45.426246643066406, 162.28024291992188, 958.8834228515625, 544.236328125, 524.4876708984375, 492.3980712890625, 268.9333190917969, 184.01138305664062, 177.3030242919922, 159.8930206298828, 144.28338623046875, 107.16946411132812, 105.84535217285156, 104.18133544921875, 99.19525909423828, 97.3463134765625, 95.53843688964844, 93.53736877441406, 89.96597290039062, 87.59339904785156, 86.88420104980469, 79.35894775390625, 76.45327758789062, 74.56002807617188, 63.395999908447266, 57.931941986083984, 57.15839385986328, 50.71485900878906, 50.44905090332031, 49.81150436401367, 47.7242317199707, 45.3133544921875, 46.69603729248047, 610.365234375, 437.3976135253906, 424.204833984375, 353.82794189453125, 332.6634216308594, 282.134033203125, 250.0584716796875, 203.6328582763672, 199.8870391845703, 189.9683837890625, 172.47842407226562, 155.60281372070312, 147.5366973876953, 132.63670349121094, 131.13803100585938, 126.82331085205078, 115.35916137695312, 101.70112609863281, 101.05230712890625, 90.45174407958984, 90.19580841064453, 76.69314575195312, 74.01241302490234, 72.25772094726562, 69.58799743652344, 65.78101348876953, 59.94269943237305, 56.809661865234375, 49.54744338989258, 49.25632858276367, 53.739768981933594, 2420.5703125, 595.5341796875, 302.39312744140625, 193.56411743164062, 148.04940795898438, 130.28778076171875, 126.96996307373047, 122.95681762695312, 113.56324768066406, 103.03368377685547, 99.17255401611328, 98.46084594726562, 89.23322296142578, 73.98860931396484, 72.83611297607422, 72.58038330078125, 67.31857299804688, 66.75634002685547, 60.08696746826172, 53.82814025878906, 53.02792739868164, 47.730255126953125, 46.577144622802734, 40.99674606323242, 40.67873764038086, 40.2469482421875, 38.35287094116211, 36.64933776855469, 36.30512619018555, 36.14952850341797, 1093.2322998046875, 806.9320068359375, 587.1714477539062, 434.0268249511719, 383.2095642089844, 241.5037384033203, 204.84783935546875, 141.74282836914062, 133.06346130371094, 107.90428161621094, 78.76495361328125, 76.2662353515625, 71.24995422363281, 66.58670043945312, 64.36629486083984, 63.477046966552734, 61.39663314819336, 54.02402114868164, 53.541194915771484, 52.9689826965332, 51.28089141845703, 51.13420104980469, 49.42997360229492, 47.98106002807617, 47.55530548095703, 46.233497619628906, 45.00040054321289, 44.29092025756836, 44.082942962646484, 41.036651611328125, 63.224178314208984, 278.03216552734375, 242.78750610351562, 219.17225646972656, 213.29307556152344, 197.88742065429688, 189.49464416503906, 181.4457550048828, 127.56046295166016, 111.11441802978516, 106.80548858642578, 93.27142333984375, 90.88981628417969, 81.07585144042969, 79.41870880126953, 78.53604888916016, 76.01891326904297, 74.75698852539062, 73.98902130126953, 67.50439453125, 62.00716018676758, 61.7403450012207, 57.117393493652344, 56.47121047973633, 55.79171371459961, 55.09391784667969, 53.65740203857422, 47.9427490234375, 47.111968994140625, 45.843482971191406, 45.14601135253906, 79.92740631103516, 691.4356689453125, 658.89990234375, 411.5677185058594, 352.6877746582031, 287.24072265625, 270.7588806152344, 181.51829528808594, 178.5013427734375, 126.51778411865234, 126.19963836669922, 123.90742492675781, 93.88079833984375, 74.64520263671875, 74.00267791748047, 71.27124786376953, 68.6753158569336, 64.0246810913086, 59.87487030029297, 59.325347900390625, 56.35966110229492, 55.0762939453125, 51.460018157958984, 47.73308563232422, 42.32438278198242, 42.289268493652344, 41.850547790527344, 41.628387451171875, 39.1993293762207, 36.9217529296875, 34.69907760620117, 53.136505126953125, 57.219810485839844, 370.4571228027344, 297.3243103027344, 221.13189697265625, 192.5770263671875, 139.64610290527344, 130.67803955078125, 125.97634887695312, 119.72725677490234, 114.99652862548828, 110.75531005859375, 99.90367889404297, 88.03726959228516, 86.5836410522461, 80.33049774169922, 79.46073150634766, 68.8746337890625, 67.8985366821289, 67.76968383789062, 66.10417938232422, 65.2667007446289, 63.07114791870117, 61.52137756347656, 61.4022216796875, 61.30607986450195, 58.368919372558594, 53.614837646484375, 53.228599548339844, 47.85585403442383, 45.12443923950195, 41.72566223144531, 55.65259552001953, 317.5274963378906, 312.7374572753906, 222.6015625, 190.91880798339844, 110.48640441894531, 102.93207550048828, 92.57366943359375, 82.31375122070312, 71.95645141601562, 67.88027954101562, 64.34982299804688, 63.46089172363281, 59.56568145751953, 58.34556579589844, 55.89710998535156, 53.95577621459961, 50.33122634887695, 50.243309020996094, 49.19205093383789, 48.331478118896484, 46.940731048583984, 46.359466552734375, 46.06734848022461, 44.698081970214844, 43.177894592285156, 42.28036880493164, 41.76725769042969, 41.0966911315918, 39.250450134277344, 37.763004302978516], \"Total\": [2421.0, 2035.0, 1451.0, 1639.0, 1333.0, 1191.0, 1094.0, 1133.0, 959.0, 1129.0, 961.0, 963.0, 906.0, 807.0, 776.0, 692.0, 764.0, 865.0, 659.0, 770.0, 742.0, 659.0, 773.0, 656.0, 745.0, 611.0, 588.0, 596.0, 575.0, 552.0, 571.7454833984375, 510.62200927734375, 395.761474609375, 328.8694763183594, 311.3791809082031, 274.0649719238281, 260.0428161621094, 254.87213134765625, 253.96102905273438, 232.8888397216797, 231.89962768554688, 229.68336486816406, 228.42904663085938, 220.81483459472656, 215.1803741455078, 208.05715942382812, 207.493896484375, 195.87826538085938, 191.17376708984375, 187.39498901367188, 185.92295837402344, 174.9723358154297, 173.91270446777344, 171.94203186035156, 169.5346221923828, 167.55380249023438, 162.20921325683594, 161.2625274658203, 158.14915466308594, 156.66769409179688, 2035.595703125, 1639.8360595703125, 1129.5577392578125, 865.6871337890625, 773.5390014648438, 745.6121826171875, 404.851318359375, 401.5903625488281, 368.8085021972656, 288.198486328125, 283.14447021484375, 243.13198852539062, 146.92066955566406, 126.05766296386719, 124.36563110351562, 120.02253723144531, 110.88895416259766, 103.57122802734375, 97.9233627319336, 87.57682800292969, 86.49677276611328, 83.44892883300781, 79.34986877441406, 75.78227233886719, 75.04407501220703, 72.46857452392578, 67.96692657470703, 66.05590057373047, 65.92373657226562, 65.43694305419922, 433.24359130859375, 421.3095397949219, 352.8246765136719, 345.3387451171875, 340.0425109863281, 316.4273681640625, 300.4602966308594, 291.63983154296875, 291.434814453125, 285.4994201660156, 211.0240478515625, 197.8724822998047, 187.2650909423828, 177.53919982910156, 169.34902954101562, 165.20663452148438, 156.62081909179688, 147.0623779296875, 141.97120666503906, 140.3618927001953, 137.61788940429688, 136.42210388183594, 135.1865692138672, 132.46478271484375, 130.83628845214844, 123.66156768798828, 123.26213836669922, 121.1216049194336, 119.77539825439453, 119.48181915283203, 770.8786010742188, 488.7345886230469, 461.78778076171875, 409.61016845703125, 396.8710632324219, 361.5143737792969, 265.61651611328125, 209.6900177001953, 199.01454162597656, 193.9019775390625, 171.0069122314453, 168.14547729492188, 159.18873596191406, 153.8391876220703, 146.28823852539062, 144.63055419921875, 142.59912109375, 140.27882385253906, 133.63185119628906, 131.53759765625, 131.33572387695312, 118.63656616210938, 118.13642120361328, 117.7349853515625, 119.79680633544922, 108.73026275634766, 105.46078491210938, 99.51777648925781, 98.546875, 97.52040100097656, 906.15673828125, 742.6414794921875, 542.2946166992188, 504.1202697753906, 393.6374206542969, 383.9949035644531, 382.4208068847656, 264.0155944824219, 258.015380859375, 252.6975555419922, 248.04071044921875, 190.76663208007812, 187.60438537597656, 176.8834686279297, 164.5478973388672, 161.4798583984375, 147.9346160888672, 147.6119384765625, 144.21209716796875, 119.96223449707031, 114.82286071777344, 110.42086029052734, 95.14712524414062, 93.5731201171875, 92.43891143798828, 90.73314666748047, 83.9576644897461, 83.43065643310547, 81.91281127929688, 77.89398193359375, 341.6260986328125, 284.0231628417969, 267.0908508300781, 211.54635620117188, 198.88363647460938, 194.0664825439453, 193.3873748779297, 192.01148986816406, 190.2443084716797, 189.9349365234375, 175.59478759765625, 162.9762725830078, 161.1501922607422, 155.7662353515625, 129.87930297851562, 123.95028686523438, 121.95240020751953, 120.1495361328125, 115.18836975097656, 112.9266586303711, 111.36719512939453, 98.75102233886719, 96.54108428955078, 93.05290222167969, 91.42192840576172, 89.53556060791016, 85.84308624267578, 83.05387878417969, 81.9847412109375, 81.4786605834961, 1133.999755859375, 963.59619140625, 764.4199829101562, 299.3369445800781, 272.0917663574219, 241.41090393066406, 239.0784454345703, 195.4881591796875, 175.1308135986328, 164.8880615234375, 138.20252990722656, 134.54812622070312, 132.8713836669922, 121.21351623535156, 109.5875244140625, 106.32266235351562, 102.86009979248047, 100.2868423461914, 97.1515121459961, 95.01409912109375, 84.91921997070312, 80.41007995605469, 76.2447738647461, 74.59220123291016, 73.75323486328125, 65.38086700439453, 61.71307373046875, 56.91110610961914, 56.58121109008789, 55.45799255371094, 67.38141632080078, 1451.80908203125, 656.25634765625, 575.7142333984375, 539.6765747070312, 329.7684020996094, 329.7325439453125, 267.5295104980469, 146.56915283203125, 133.4109344482422, 129.0252685546875, 115.7486801147461, 112.52333068847656, 112.03387451171875, 109.56175231933594, 87.30252075195312, 84.01197814941406, 78.7507553100586, 74.95025634765625, 73.82278442382812, 70.79267883300781, 62.72956466674805, 62.33127975463867, 61.66233444213867, 59.904727935791016, 59.721099853515625, 53.575504302978516, 53.542205810546875, 52.58783721923828, 51.22518539428711, 51.169105529785156, 109.1895980834961, 97.76978302001953, 98.91493225097656, 961.930419921875, 776.40869140625, 417.011962890625, 276.0278625488281, 214.54995727539062, 207.07766723632812, 196.94517517089844, 164.55966186523438, 163.84364318847656, 158.07916259765625, 136.42694091796875, 131.68141174316406, 125.19585418701172, 124.88475036621094, 97.23355865478516, 89.14559936523438, 81.271240234375, 80.69768524169922, 79.0056381225586, 77.53160858154297, 68.42980194091797, 65.69267272949219, 58.41557312011719, 52.306705474853516, 50.90495681762695, 50.32268524169922, 50.06425094604492, 48.95047378540039, 46.304351806640625, 46.20295333862305, 555.700439453125, 536.14990234375, 460.707275390625, 385.5625915527344, 331.2778015136719, 317.6534118652344, 226.6618194580078, 193.64602661132812, 187.28475952148438, 185.11265563964844, 183.55520629882812, 177.00149536132812, 148.172119140625, 126.02594757080078, 121.10882568359375, 115.79593658447266, 113.40991973876953, 113.38219451904297, 105.6375503540039, 101.99813842773438, 92.55419158935547, 87.3929443359375, 83.48640441894531, 79.58843231201172, 76.21842956542969, 73.70038604736328, 66.4221420288086, 64.50963592529297, 63.98126220703125, 62.74272918701172, 659.1580200195312, 552.6347045898438, 290.2154235839844, 276.6353454589844, 273.6950988769531, 254.55052185058594, 225.429443359375, 208.67799377441406, 139.253662109375, 137.00433349609375, 127.39767456054688, 120.79107666015625, 101.82881927490234, 99.56269073486328, 87.20993041992188, 83.6462631225586, 74.63384246826172, 70.28245544433594, 69.8326187133789, 67.01901245117188, 64.49555206298828, 63.5296745300293, 62.16963577270508, 62.13361358642578, 61.38981246948242, 60.9220085144043, 60.04481887817383, 58.368778228759766, 54.864105224609375, 49.461238861083984, 1333.2904052734375, 1191.2069091796875, 361.0042724609375, 268.4261474609375, 253.5309295654297, 237.56466674804688, 218.23367309570312, 213.14968872070312, 141.03421020507812, 114.91429138183594, 103.58132934570312, 102.16134643554688, 98.77155303955078, 93.67798614501953, 84.60584259033203, 80.7865219116211, 76.24429321289062, 75.10753631591797, 75.02490997314453, 74.88485717773438, 67.03870391845703, 64.53064727783203, 59.05118179321289, 53.44251251220703, 53.44012451171875, 52.949581146240234, 50.806373596191406, 48.230796813964844, 47.571800231933594, 46.28171157836914, 178.85536193847656, 959.7341918945312, 545.0870971679688, 525.3384399414062, 493.2488098144531, 269.7840576171875, 184.86212158203125, 178.1537628173828, 160.74375915527344, 145.13412475585938, 108.02018737792969, 106.69607543945312, 105.03205871582031, 100.04598236083984, 98.19703674316406, 96.38916015625, 94.38809204101562, 90.81669616699219, 88.44412231445312, 87.73492431640625, 80.20967102050781, 77.30400085449219, 75.41075134277344, 64.2467269897461, 58.78267288208008, 58.009307861328125, 51.56558609008789, 51.299781799316406, 50.662235260009766, 48.575225830078125, 46.16408157348633, 47.573665618896484, 611.2212524414062, 438.25360107421875, 425.0608215332031, 354.6839294433594, 333.5194091796875, 282.9900207519531, 250.9144744873047, 204.48886108398438, 200.7430419921875, 190.8243865966797, 173.3344268798828, 156.4588165283203, 148.3927001953125, 133.49270629882812, 131.99403381347656, 127.67930603027344, 116.21515655517578, 102.55712127685547, 101.9083023071289, 91.3077392578125, 91.05180358886719, 77.54914093017578, 74.868408203125, 73.11371612548828, 70.4439926147461, 66.63700866699219, 60.79869079589844, 57.665653228759766, 50.40343475341797, 50.11231994628906, 54.68985366821289, 2421.427734375, 596.3917846679688, 303.25067138671875, 194.42169189453125, 148.906982421875, 131.14535522460938, 127.82752227783203, 123.81437683105469, 114.42080688476562, 103.89124298095703, 100.03011322021484, 99.31840515136719, 90.09078216552734, 74.8461685180664, 73.69367218017578, 73.43794250488281, 68.17613220214844, 67.61389923095703, 60.944522857666016, 54.68569564819336, 53.88548278808594, 48.58781051635742, 47.44658279418945, 41.85430145263672, 41.536293029785156, 41.1045036315918, 39.210426330566406, 37.506893157958984, 37.162681579589844, 37.007083892822266, 1094.09033203125, 807.7901000976562, 588.029541015625, 434.8848571777344, 384.0675964355469, 242.36180114746094, 205.70590209960938, 142.60089111328125, 133.92152404785156, 108.7623291015625, 79.62300109863281, 77.12428283691406, 72.10800170898438, 67.44474792480469, 65.2243423461914, 64.33509826660156, 62.25468444824219, 54.88207244873047, 54.39924621582031, 53.82703399658203, 52.13894271850586, 51.992252349853516, 50.28802490234375, 48.839111328125, 48.41335678100586, 47.091548919677734, 45.85845184326172, 45.14907455444336, 44.94099426269531, 41.89470291137695, 170.9508819580078, 278.885498046875, 243.64085388183594, 220.02560424804688, 214.14642333984375, 198.7407684326172, 190.34799194335938, 182.29910278320312, 128.41380310058594, 111.9677505493164, 107.65882110595703, 94.124755859375, 91.74314880371094, 81.92918395996094, 80.27204132080078, 79.3893814086914, 76.87224578857422, 75.61032104492188, 74.84235382080078, 68.35772705078125, 62.86049270629883, 62.59367752075195, 57.970726013183594, 57.32454299926758, 56.64504623413086, 55.94725036621094, 54.51073455810547, 48.79608154296875, 47.983436584472656, 46.696815490722656, 45.99934387207031, 85.42326354980469, 692.2943115234375, 659.758544921875, 412.4263916015625, 353.54644775390625, 288.0993957519531, 271.6175537109375, 182.376953125, 179.36000061035156, 127.37644958496094, 127.05830383300781, 124.7660903930664, 94.73946380615234, 75.50386810302734, 74.86134338378906, 72.12991333007812, 69.53398132324219, 64.88334655761719, 60.73353576660156, 60.18401336669922, 57.218326568603516, 55.934959411621094, 52.31868362426758, 48.59175109863281, 43.183048248291016, 43.14793395996094, 42.70921325683594, 42.48705291748047, 40.0579948425293, 37.78155517578125, 35.557743072509766, 56.408302307128906, 68.01166534423828, 371.3114929199219, 298.1786804199219, 221.9862823486328, 193.43141174316406, 140.50048828125, 131.5324249267578, 126.83072662353516, 120.58163452148438, 115.85090637207031, 111.60968780517578, 100.758056640625, 88.89164733886719, 87.43801879882812, 81.18487548828125, 80.31510925292969, 69.72901153564453, 68.75291442871094, 68.62406158447266, 66.95855712890625, 66.12107849121094, 63.9255256652832, 62.375755310058594, 62.25659942626953, 62.16047668457031, 59.223297119140625, 54.469215393066406, 54.082977294921875, 48.71023178100586, 45.978816986083984, 42.580039978027344, 57.42568588256836, 318.3819274902344, 313.5918884277344, 223.4559783935547, 191.77322387695312, 111.34082794189453, 103.7864990234375, 93.42809295654297, 83.16817474365234, 72.81087493896484, 68.73470306396484, 65.2042465209961, 64.31531524658203, 60.42010498046875, 59.199989318847656, 56.75153350830078, 54.81019973754883, 51.18564987182617, 51.09773254394531, 50.04647445678711, 49.1859016418457, 47.7951545715332, 47.213890075683594, 46.92177200317383, 45.55250549316406, 44.032318115234375, 43.13479232788086, 42.621681213378906, 41.951114654541016, 40.10487365722656, 38.617427825927734], \"Category\": [\"Default\", \"Default\", \"Default\", \"Default\", \"Default\", \"Default\", \"Default\", \"Default\", \"Default\", \"Default\", \"Default\", \"Default\", \"Default\", \"Default\", \"Default\", \"Default\", \"Default\", \"Default\", \"Default\", \"Default\", \"Default\", \"Default\", \"Default\", \"Default\", \"Default\", \"Default\", \"Default\", \"Default\", \"Default\", \"Default\", \"Topic1\", \"Topic1\", \"Topic1\", \"Topic1\", \"Topic1\", \"Topic1\", \"Topic1\", \"Topic1\", \"Topic1\", \"Topic1\", \"Topic1\", \"Topic1\", \"Topic1\", \"Topic1\", \"Topic1\", \"Topic1\", \"Topic1\", \"Topic1\", \"Topic1\", \"Topic1\", \"Topic1\", \"Topic1\", \"Topic1\", \"Topic1\", \"Topic1\", \"Topic1\", \"Topic1\", \"Topic1\", \"Topic1\", \"Topic1\", \"Topic2\", \"Topic2\", \"Topic2\", \"Topic2\", \"Topic2\", \"Topic2\", \"Topic2\", \"Topic2\", \"Topic2\", \"Topic2\", \"Topic2\", \"Topic2\", \"Topic2\", \"Topic2\", \"Topic2\", \"Topic2\", \"Topic2\", \"Topic2\", \"Topic2\", \"Topic2\", \"Topic2\", \"Topic2\", \"Topic2\", \"Topic2\", \"Topic2\", \"Topic2\", \"Topic2\", \"Topic2\", \"Topic2\", \"Topic2\", \"Topic3\", \"Topic3\", \"Topic3\", \"Topic3\", \"Topic3\", \"Topic3\", \"Topic3\", \"Topic3\", \"Topic3\", \"Topic3\", \"Topic3\", \"Topic3\", \"Topic3\", \"Topic3\", \"Topic3\", \"Topic3\", \"Topic3\", \"Topic3\", \"Topic3\", \"Topic3\", \"Topic3\", \"Topic3\", \"Topic3\", \"Topic3\", \"Topic3\", \"Topic3\", \"Topic3\", \"Topic3\", \"Topic3\", \"Topic3\", \"Topic4\", \"Topic4\", \"Topic4\", \"Topic4\", \"Topic4\", \"Topic4\", \"Topic4\", \"Topic4\", \"Topic4\", \"Topic4\", \"Topic4\", \"Topic4\", \"Topic4\", \"Topic4\", \"Topic4\", \"Topic4\", \"Topic4\", \"Topic4\", \"Topic4\", \"Topic4\", \"Topic4\", \"Topic4\", \"Topic4\", \"Topic4\", \"Topic4\", \"Topic4\", \"Topic4\", \"Topic4\", \"Topic4\", \"Topic4\", \"Topic5\", \"Topic5\", \"Topic5\", \"Topic5\", \"Topic5\", \"Topic5\", \"Topic5\", \"Topic5\", \"Topic5\", \"Topic5\", \"Topic5\", \"Topic5\", \"Topic5\", \"Topic5\", \"Topic5\", \"Topic5\", \"Topic5\", \"Topic5\", \"Topic5\", \"Topic5\", \"Topic5\", \"Topic5\", \"Topic5\", \"Topic5\", \"Topic5\", \"Topic5\", \"Topic5\", \"Topic5\", \"Topic5\", \"Topic5\", \"Topic6\", \"Topic6\", \"Topic6\", \"Topic6\", \"Topic6\", \"Topic6\", \"Topic6\", \"Topic6\", \"Topic6\", \"Topic6\", \"Topic6\", \"Topic6\", \"Topic6\", \"Topic6\", \"Topic6\", \"Topic6\", \"Topic6\", \"Topic6\", \"Topic6\", \"Topic6\", \"Topic6\", \"Topic6\", \"Topic6\", \"Topic6\", \"Topic6\", \"Topic6\", \"Topic6\", \"Topic6\", \"Topic6\", \"Topic6\", \"Topic7\", \"Topic7\", \"Topic7\", \"Topic7\", \"Topic7\", \"Topic7\", \"Topic7\", \"Topic7\", \"Topic7\", \"Topic7\", \"Topic7\", \"Topic7\", \"Topic7\", \"Topic7\", \"Topic7\", \"Topic7\", \"Topic7\", \"Topic7\", \"Topic7\", \"Topic7\", \"Topic7\", \"Topic7\", \"Topic7\", \"Topic7\", \"Topic7\", \"Topic7\", \"Topic7\", \"Topic7\", \"Topic7\", \"Topic7\", \"Topic7\", \"Topic8\", \"Topic8\", \"Topic8\", \"Topic8\", \"Topic8\", \"Topic8\", \"Topic8\", \"Topic8\", \"Topic8\", \"Topic8\", \"Topic8\", \"Topic8\", \"Topic8\", \"Topic8\", \"Topic8\", \"Topic8\", \"Topic8\", \"Topic8\", \"Topic8\", \"Topic8\", \"Topic8\", \"Topic8\", \"Topic8\", \"Topic8\", \"Topic8\", \"Topic8\", \"Topic8\", \"Topic8\", \"Topic8\", \"Topic8\", \"Topic8\", \"Topic8\", \"Topic8\", \"Topic9\", \"Topic9\", \"Topic9\", \"Topic9\", \"Topic9\", \"Topic9\", \"Topic9\", \"Topic9\", \"Topic9\", \"Topic9\", \"Topic9\", \"Topic9\", \"Topic9\", \"Topic9\", \"Topic9\", \"Topic9\", \"Topic9\", \"Topic9\", \"Topic9\", \"Topic9\", \"Topic9\", \"Topic9\", \"Topic9\", \"Topic9\", \"Topic9\", \"Topic9\", \"Topic9\", \"Topic9\", \"Topic9\", \"Topic9\", \"Topic10\", \"Topic10\", \"Topic10\", \"Topic10\", \"Topic10\", \"Topic10\", \"Topic10\", \"Topic10\", \"Topic10\", \"Topic10\", \"Topic10\", \"Topic10\", \"Topic10\", \"Topic10\", \"Topic10\", \"Topic10\", \"Topic10\", \"Topic10\", \"Topic10\", \"Topic10\", \"Topic10\", \"Topic10\", \"Topic10\", \"Topic10\", \"Topic10\", \"Topic10\", \"Topic10\", \"Topic10\", \"Topic10\", \"Topic10\", \"Topic11\", \"Topic11\", \"Topic11\", \"Topic11\", \"Topic11\", \"Topic11\", \"Topic11\", \"Topic11\", \"Topic11\", \"Topic11\", \"Topic11\", \"Topic11\", \"Topic11\", \"Topic11\", \"Topic11\", \"Topic11\", \"Topic11\", \"Topic11\", \"Topic11\", \"Topic11\", \"Topic11\", \"Topic11\", \"Topic11\", \"Topic11\", \"Topic11\", \"Topic11\", \"Topic11\", \"Topic11\", \"Topic11\", \"Topic11\", \"Topic12\", \"Topic12\", \"Topic12\", \"Topic12\", \"Topic12\", \"Topic12\", \"Topic12\", \"Topic12\", \"Topic12\", \"Topic12\", \"Topic12\", \"Topic12\", \"Topic12\", \"Topic12\", \"Topic12\", \"Topic12\", \"Topic12\", \"Topic12\", \"Topic12\", \"Topic12\", \"Topic12\", \"Topic12\", \"Topic12\", \"Topic12\", \"Topic12\", \"Topic12\", \"Topic12\", \"Topic12\", \"Topic12\", \"Topic12\", \"Topic12\", \"Topic13\", \"Topic13\", \"Topic13\", \"Topic13\", \"Topic13\", \"Topic13\", \"Topic13\", \"Topic13\", \"Topic13\", \"Topic13\", \"Topic13\", \"Topic13\", \"Topic13\", \"Topic13\", \"Topic13\", \"Topic13\", \"Topic13\", \"Topic13\", \"Topic13\", \"Topic13\", \"Topic13\", \"Topic13\", \"Topic13\", \"Topic13\", \"Topic13\", \"Topic13\", \"Topic13\", \"Topic13\", \"Topic13\", \"Topic13\", \"Topic13\", \"Topic14\", \"Topic14\", \"Topic14\", \"Topic14\", \"Topic14\", \"Topic14\", \"Topic14\", \"Topic14\", \"Topic14\", \"Topic14\", \"Topic14\", \"Topic14\", \"Topic14\", \"Topic14\", \"Topic14\", \"Topic14\", \"Topic14\", \"Topic14\", \"Topic14\", \"Topic14\", \"Topic14\", \"Topic14\", \"Topic14\", \"Topic14\", \"Topic14\", \"Topic14\", \"Topic14\", \"Topic14\", \"Topic14\", \"Topic14\", \"Topic14\", \"Topic15\", \"Topic15\", \"Topic15\", \"Topic15\", \"Topic15\", \"Topic15\", \"Topic15\", \"Topic15\", \"Topic15\", \"Topic15\", \"Topic15\", \"Topic15\", \"Topic15\", \"Topic15\", \"Topic15\", \"Topic15\", \"Topic15\", \"Topic15\", \"Topic15\", \"Topic15\", \"Topic15\", \"Topic15\", \"Topic15\", \"Topic15\", \"Topic15\", \"Topic15\", \"Topic15\", \"Topic15\", \"Topic15\", \"Topic15\", \"Topic16\", \"Topic16\", \"Topic16\", \"Topic16\", \"Topic16\", \"Topic16\", \"Topic16\", \"Topic16\", \"Topic16\", \"Topic16\", \"Topic16\", \"Topic16\", \"Topic16\", \"Topic16\", \"Topic16\", \"Topic16\", \"Topic16\", \"Topic16\", \"Topic16\", \"Topic16\", \"Topic16\", \"Topic16\", \"Topic16\", \"Topic16\", \"Topic16\", \"Topic16\", \"Topic16\", \"Topic16\", \"Topic16\", \"Topic16\", \"Topic16\", \"Topic17\", \"Topic17\", \"Topic17\", \"Topic17\", \"Topic17\", \"Topic17\", \"Topic17\", \"Topic17\", \"Topic17\", \"Topic17\", \"Topic17\", \"Topic17\", \"Topic17\", \"Topic17\", \"Topic17\", \"Topic17\", \"Topic17\", \"Topic17\", \"Topic17\", \"Topic17\", \"Topic17\", \"Topic17\", \"Topic17\", \"Topic17\", \"Topic17\", \"Topic17\", \"Topic17\", \"Topic17\", \"Topic17\", \"Topic17\", \"Topic17\", \"Topic18\", \"Topic18\", \"Topic18\", \"Topic18\", \"Topic18\", \"Topic18\", \"Topic18\", \"Topic18\", \"Topic18\", \"Topic18\", \"Topic18\", \"Topic18\", \"Topic18\", \"Topic18\", \"Topic18\", \"Topic18\", \"Topic18\", \"Topic18\", \"Topic18\", \"Topic18\", \"Topic18\", \"Topic18\", \"Topic18\", \"Topic18\", \"Topic18\", \"Topic18\", \"Topic18\", \"Topic18\", \"Topic18\", \"Topic18\", \"Topic18\", \"Topic18\", \"Topic19\", \"Topic19\", \"Topic19\", \"Topic19\", \"Topic19\", \"Topic19\", \"Topic19\", \"Topic19\", \"Topic19\", \"Topic19\", \"Topic19\", \"Topic19\", \"Topic19\", \"Topic19\", \"Topic19\", \"Topic19\", \"Topic19\", \"Topic19\", \"Topic19\", \"Topic19\", \"Topic19\", \"Topic19\", \"Topic19\", \"Topic19\", \"Topic19\", \"Topic19\", \"Topic19\", \"Topic19\", \"Topic19\", \"Topic19\", \"Topic19\", \"Topic20\", \"Topic20\", \"Topic20\", \"Topic20\", \"Topic20\", \"Topic20\", \"Topic20\", \"Topic20\", \"Topic20\", \"Topic20\", \"Topic20\", \"Topic20\", \"Topic20\", \"Topic20\", \"Topic20\", \"Topic20\", \"Topic20\", \"Topic20\", \"Topic20\", \"Topic20\", \"Topic20\", \"Topic20\", \"Topic20\", \"Topic20\", \"Topic20\", \"Topic20\", \"Topic20\", \"Topic20\", \"Topic20\", \"Topic20\"], \"logprob\": [30.0, 29.0, 28.0, 27.0, 26.0, 25.0, 24.0, 23.0, 22.0, 21.0, 20.0, 19.0, 18.0, 17.0, 16.0, 15.0, 14.0, 13.0, 12.0, 11.0, 10.0, 9.0, 8.0, 7.0, 6.0, 5.0, 4.0, 3.0, 2.0, 1.0, -3.436199903488159, -3.5494000911712646, -3.8046998977661133, -3.990299940109253, -4.045100212097168, -4.173099994659424, -4.225800037384033, -4.2459001541137695, -4.249499797821045, -4.33650016784668, -4.340700149536133, -4.350399971008301, -4.355899810791016, -4.389900207519531, -4.415900230407715, -4.449699878692627, -4.452400207519531, -4.510200023651123, -4.534599781036377, -4.554699897766113, -4.562600135803223, -4.623600006103516, -4.629700183868408, -4.641200065612793, -4.655300140380859, -4.667200088500977, -4.699699878692627, -4.705599784851074, -4.725200176239014, -4.7347002029418945, -2.101599931716919, -2.3178999423980713, -2.6909000873565674, -2.957200050354004, -3.0699000358581543, -3.1066999435424805, -3.718400001525879, -3.7265000343322754, -3.811800003051758, -4.059100151062012, -4.0767998695373535, -4.229700088500977, -4.7357001304626465, -4.889800071716309, -4.90339994430542, -4.939199924468994, -5.019000053405762, -5.087800025939941, -5.1442999839782715, -5.2571001052856445, -5.269599914550781, -5.305799961090088, -5.3566999435424805, -5.403200149536133, -5.413099765777588, -5.448500156402588, -5.513400077819824, -5.542300224304199, -5.544300079345703, -5.551799774169922, -3.533600091934204, -3.5615999698638916, -3.739300012588501, -3.7607998847961426, -3.7762999534606934, -3.8485000133514404, -3.900399923324585, -3.930299997329712, -3.930999994277954, -3.95169997215271, -4.255000114440918, -4.3196001052856445, -4.374899864196777, -4.428500175476074, -4.47599983215332, -4.500899791717529, -4.554500102996826, -4.6178998947143555, -4.653299808502197, -4.66480016708374, -4.684599876403809, -4.693399906158447, -4.702600002288818, -4.723100185394287, -4.735499858856201, -4.792300224304199, -4.795499801635742, -4.813199996948242, -4.824399948120117, -4.826900005340576, -2.862499952316284, -3.3187999725341797, -3.3756000995635986, -3.495800018310547, -3.527400016784668, -3.6208999156951904, -3.930000066757202, -4.167300224304199, -4.219799995422363, -4.2459001541137695, -4.372200012207031, -4.389100074768066, -4.444200038909912, -4.478499889373779, -4.529200077056885, -4.540599822998047, -4.554900169372559, -4.571400165557861, -4.620200157165527, -4.636099815368652, -4.637700080871582, -4.739999771118164, -4.74429988861084, -4.747700214385986, -4.730500221252441, -4.827899932861328, -4.858699798583984, -4.917200088500977, -4.92710018157959, -4.937600135803223, -2.672800064086914, -2.871999979019165, -3.186800003051758, -3.2599000930786133, -3.5078001022338867, -3.532599925994873, -3.536799907684326, -3.9082999229431152, -3.931299924850464, -3.952199935913086, -3.970900058746338, -4.234499931335449, -4.251299858093262, -4.310400009155273, -4.382999897003174, -4.4019999504089355, -4.490099906921387, -4.492199897766113, -4.515699863433838, -4.701000213623047, -4.745100021362305, -4.7845001220703125, -4.934599876403809, -4.951399803161621, -4.963799953460693, -4.982600212097168, -5.0609002113342285, -5.067299842834473, -5.0858001708984375, -5.13670015335083, -3.5048000812530518, -3.6898999214172363, -3.7516000270843506, -3.985599994659424, -4.047599792480469, -4.072199821472168, -4.075699806213379, -4.082900047302246, -4.092199802398682, -4.093800067901611, -4.172699928283691, -4.247600078582764, -4.258999824523926, -4.293099880218506, -4.47599983215332, -4.5229997634887695, -4.539400100708008, -4.5543999671936035, -4.596799850463867, -4.616799831390381, -4.630799770355225, -4.752099990844727, -4.774899959564209, -4.811999797821045, -4.829899787902832, -4.850900173187256, -4.893400192260742, -4.926799774169922, -4.939899921417236, -4.946199893951416, -2.2983999252319336, -2.461400032043457, -2.69320011138916, -3.632499933242798, -3.7281999588012695, -3.8482000827789307, -3.8580000400543213, -4.060100078582764, -4.170499801635742, -4.231100082397461, -4.408699989318848, -4.4355998039245605, -4.448200225830078, -4.5406999588012695, -4.642300128936768, -4.672800064086914, -4.706099987030029, -4.7316999435424805, -4.763700008392334, -4.786200046539307, -4.899600028991699, -4.954699993133545, -5.008500099182129, -5.030700206756592, -5.042099952697754, -5.164100170135498, -5.222599983215332, -5.304800033569336, -5.310699939727783, -5.331099987030029, -5.258800029754639, -2.044600009918213, -2.8392999172210693, -2.970400094985962, -3.0352001190185547, -3.5288000106811523, -3.528899908065796, -3.7385001182556152, -4.342899799346924, -4.437600135803223, -4.471199989318848, -4.580599784851074, -4.609000205993652, -4.613399982452393, -4.635900020599365, -4.864999771118164, -4.903800010681152, -4.969200134277344, -5.019199848175049, -5.034599781036377, -5.077000141143799, -5.19950008392334, -5.205900192260742, -5.216899871826172, -5.246200084686279, -5.249300003051758, -5.359600067138672, -5.360199928283691, -5.378499984741211, -5.405200004577637, -5.406300067901611, -4.648799896240234, -4.789100170135498, -5.224599838256836, -2.4047999382019043, -2.61929988861084, -3.24180006980896, -3.6554999351501465, -3.9082999229431152, -3.9439001083374023, -3.99429988861084, -4.174799919128418, -4.179200172424316, -4.215199947357178, -4.363399982452393, -4.39900016784668, -4.44980001449585, -4.452300071716309, -4.704599857330322, -4.792200088500977, -4.8856000900268555, -4.8927998542785645, -4.9141998291015625, -4.933199882507324, -5.059599876403809, -5.100900173187256, -5.21999979019165, -5.332200050354004, -5.359799861907959, -5.371500015258789, -5.376699924468994, -5.399600028991699, -5.456200122833252, -5.458399772644043, -2.9516000747680664, -2.9874000549316406, -3.1393001079559326, -3.3178000450134277, -3.469899892807007, -3.51200008392334, -3.850600004196167, -4.008600234985352, -4.042200088500977, -4.053899765014648, -4.062399864196777, -4.098899841308594, -4.277699947357178, -4.4405999183654785, -4.480599880218506, -4.5258002281188965, -4.546800136566162, -4.547100067138672, -4.6184000968933105, -4.65369987487793, -4.751699924468994, -4.809700012207031, -4.855899810791016, -4.904200077056885, -4.94789981842041, -4.981900215148926, -5.087200164794922, -5.116799831390381, -5.125100135803223, -5.144899845123291, -2.7486000061035156, -2.925100088119507, -3.5706000328063965, -3.6187000274658203, -3.6294000148773193, -3.7021000385284424, -3.8241000175476074, -3.901599884033203, -4.30810022354126, -4.32450008392334, -4.39769983291626, -4.451300144195557, -4.6234002113342285, -4.646100044250488, -4.779799938201904, -4.821899890899658, -4.93720006942749, -4.997900009155273, -5.00439977645874, -5.04610013961792, -5.085000038146973, -5.100299835205078, -5.122200012207031, -5.122799873352051, -5.135000228881836, -5.1427001953125, -5.15749979019165, -5.186200141906738, -5.249000072479248, -5.354400157928467, -2.0418999195098877, -2.1547000408172607, -3.3501999378204346, -3.6473000049591064, -3.7046000957489014, -3.76990008354187, -3.85509991645813, -3.878700017929077, -4.293799877166748, -4.5, -4.604599952697754, -4.618599891662598, -4.652599811553955, -4.705999851226807, -4.808899879455566, -4.855500221252441, -4.914100170135498, -4.929200172424316, -4.9303998947143555, -4.932199954986572, -5.044300079345703, -5.082900047302246, -5.172900199890137, -5.274199962615967, -5.2743000984191895, -5.283699989318848, -5.325699806213379, -5.378600120544434, -5.392600059509277, -5.420599937438965, -4.14739990234375, -2.360599994659424, -2.9268999099731445, -2.963900089263916, -3.0269999504089355, -3.6319000720977783, -4.011300086975098, -4.048500061035156, -4.151800155639648, -4.2546000480651855, -4.5518999099731445, -4.5644001960754395, -4.5802001953125, -4.629199981689453, -4.648099899291992, -4.666800022125244, -4.688000202178955, -4.726900100708008, -4.753600120544434, -4.7617998123168945, -4.852399826049805, -4.889699935913086, -4.914700031280518, -5.076900005340576, -5.167099952697754, -5.180500030517578, -5.300099849700928, -5.3053998947143555, -5.3180999755859375, -5.360899925231934, -5.412700176239014, -5.382699966430664, -2.811500072479248, -3.144700050354004, -3.175299882888794, -3.3566999435424805, -3.4184000492095947, -3.583199977874756, -3.703900098800659, -3.9091999530792236, -3.927799940109253, -3.9786999225616455, -4.075300216674805, -4.178199768066406, -4.231500148773193, -4.337900161743164, -4.349299907684326, -4.382800102233887, -4.477499961853027, -4.603499889373779, -4.609899997711182, -4.720699787139893, -4.723599910736084, -4.885700225830078, -4.921299934387207, -4.945300102233887, -4.982999801635742, -5.0391998291015625, -5.132199764251709, -5.185800075531006, -5.3225998878479, -5.328499794006348, -5.241399765014648, -1.409500002861023, -2.811800003051758, -3.489500045776367, -3.935699939727783, -4.203700065612793, -4.331500053405762, -4.3572998046875, -4.389400005340576, -4.468900203704834, -4.566199779510498, -4.604400157928467, -4.611599922180176, -4.710000038146973, -4.89739990234375, -4.913099765777588, -4.916600227355957, -4.991799831390381, -5.000199794769287, -5.105500221252441, -5.2154998779296875, -5.230500221252441, -5.335700035095215, -5.360199928283691, -5.487800121307373, -5.49560022354126, -5.506199836730957, -5.5543999671936035, -5.599899768829346, -5.609300136566162, -5.61359977722168, -2.1572000980377197, -2.460900068283081, -2.7788000106811523, -3.0810000896453857, -3.2054998874664307, -3.6672000885009766, -3.831899881362915, -4.200099945068359, -4.263299942016602, -4.472899913787842, -4.787700176239014, -4.819900035858154, -4.887899875640869, -4.955599784851074, -4.989500045776367, -5.003399848937988, -5.036799907684326, -5.164700031280518, -5.173699855804443, -5.1844000816345215, -5.216800212860107, -5.219699859619141, -5.253600120544434, -5.283299922943115, -5.292200088500977, -5.320400238037109, -5.347499847412109, -5.36329984664917, -5.368000030517578, -5.439700126647949, -5.007400035858154, -3.4089999198913574, -3.544600009918213, -3.646899938583374, -3.674099922180176, -3.7490999698638916, -3.7923998832702637, -3.8357999324798584, -4.188199996948242, -4.326200008392334, -4.365799903869629, -4.501299858093262, -4.527100086212158, -4.64139986038208, -4.6620001792907715, -4.6732001304626465, -4.7058000564575195, -4.722499847412109, -4.732800006866455, -4.8246002197265625, -4.9095001220703125, -4.91379976272583, -4.991700172424316, -5.002999782562256, -5.015100002288818, -5.027699947357178, -5.054100036621094, -5.166800022125244, -5.184199810028076, -5.21150016784668, -5.226900100708008, -4.655600070953369, -2.471100091934204, -2.5192999839782715, -2.9899001121520996, -3.1442999839782715, -3.349600076675415, -3.408600091934204, -3.808500051498413, -3.8252999782562256, -4.16949987411499, -4.171999931335449, -4.190299987792969, -4.467899799346924, -4.6971001625061035, -4.7058000564575195, -4.7434000968933105, -4.7804999351501465, -4.850599765777588, -4.917600154876709, -4.926799774169922, -4.978099822998047, -5.001200199127197, -5.0690999031066895, -5.1442999839782715, -5.264500141143799, -5.2652997970581055, -5.2758002281188965, -5.281099796295166, -5.34119987487793, -5.401100158691406, -5.463200092315674, -5.0370001792907715, -4.9629998207092285, -3.0404999256134033, -3.2604000568389893, -3.55649995803833, -3.6947999000549316, -4.01609992980957, -4.082499980926514, -4.119200229644775, -4.170000076293945, -4.210400104522705, -4.247900009155273, -4.35099983215332, -4.477499961853027, -4.494100093841553, -4.5690999031066895, -4.579999923706055, -4.7230000495910645, -4.737199783325195, -4.739099979400635, -4.763999938964844, -4.776800155639648, -4.810999870300293, -4.835899829864502, -4.837800025939941, -4.839399814605713, -4.888500213623047, -4.973400115966797, -4.9807000160217285, -5.087100028991699, -5.1458001136779785, -5.224100112915039, -4.936100006103516, -3.1008999347686768, -3.1161000728607178, -3.4560999870300293, -3.6096999645233154, -4.156599998474121, -4.227399826049805, -4.333499908447266, -4.451000213623047, -4.5854997634887695, -4.643799781799316, -4.697199821472168, -4.711100101470947, -4.774400234222412, -4.795100212097168, -4.8379998207092285, -4.873300075531006, -4.94290018081665, -4.9446001052856445, -4.965799808502197, -4.983399868011475, -5.012599945068359, -5.025100231170654, -5.031400203704834, -5.061600208282471, -5.096199989318848, -5.117199897766113, -5.12939977645874, -5.145599842071533, -5.191500186920166, -5.230199813842773], \"loglift\": [30.0, 29.0, 28.0, 27.0, 26.0, 25.0, 24.0, 23.0, 22.0, 21.0, 20.0, 19.0, 18.0, 17.0, 16.0, 15.0, 14.0, 13.0, 12.0, 11.0, 10.0, 9.0, 8.0, 7.0, 6.0, 5.0, 4.0, 3.0, 2.0, 1.0, 2.5278000831604004, 2.527600049972534, 2.527100086212158, 2.526700019836426, 2.5264999866485596, 2.52620005607605, 2.5260000228881836, 2.525899887084961, 2.525899887084961, 2.525599956512451, 2.525599956512451, 2.525599956512451, 2.525599956512451, 2.525399923324585, 2.5253000259399414, 2.5251998901367188, 2.5251998901367188, 2.524899959564209, 2.5248000621795654, 2.5246999263763428, 2.5246999263763428, 2.524399995803833, 2.524399995803833, 2.5243000984191895, 2.5243000984191895, 2.524199962615967, 2.5239999294281006, 2.5239999294281006, 2.523900032043457, 2.5237998962402344, 2.5924999713897705, 2.592400074005127, 2.592099905014038, 2.591900110244751, 2.5917999744415283, 2.5917000770568848, 2.5908000469207764, 2.5908000469207764, 2.59060001373291, 2.589900016784668, 2.589900016784668, 2.589400053024292, 2.587100028991699, 2.5861001014709473, 2.5859999656677246, 2.585700035095215, 2.585200071334839, 2.5845999717712402, 2.5841000080108643, 2.5831000804901123, 2.5829999446868896, 2.5826001167297363, 2.5820999145507812, 2.5815000534057617, 2.581399917602539, 2.5810000896453857, 2.580199956893921, 2.579900026321411, 2.5797998905181885, 2.579699993133545, 2.7077999114990234, 2.70770001411438, 2.7072999477386475, 2.7072999477386475, 2.707200050354004, 2.7070999145507812, 2.706899881362915, 2.7067999839782715, 2.7067999839782715, 2.7067999839782715, 2.705699920654297, 2.705399990081787, 2.705199956893921, 2.704900026321411, 2.704699993133545, 2.7046000957489014, 2.7042999267578125, 2.703900098800659, 2.703700065612793, 2.7035999298095703, 2.7035000324249268, 2.7035000324249268, 2.703399896621704, 2.7032999992370605, 2.703200101852417, 2.7028000354766846, 2.7028000354766846, 2.702699899673462, 2.7026000022888184, 2.7026000022888184, 2.8027000427246094, 2.802000045776367, 2.8018999099731445, 2.8017001152038574, 2.8015999794006348, 2.8013999462127686, 2.800600051879883, 2.7997000217437744, 2.799499988555908, 2.7994000911712646, 2.798799991607666, 2.7987000942230225, 2.7983999252319336, 2.7981998920440674, 2.7978999614715576, 2.797800064086914, 2.797800064086914, 2.7976999282836914, 2.7973999977111816, 2.797300100326538, 2.7971999645233154, 2.7964999675750732, 2.7964999675750732, 2.7964999675750732, 2.7964000701904297, 2.7959001064300537, 2.795599937438965, 2.795099973678589, 2.795099973678589, 2.7950000762939453, 2.830699920654297, 2.8304998874664307, 2.8299999237060547, 2.829900026321411, 2.829400062561035, 2.829400062561035, 2.829400062561035, 2.828399896621704, 2.8282999992370605, 2.828200101852417, 2.828200101852417, 2.8271000385284424, 2.8271000385284424, 2.8268001079559326, 2.8264000415802, 2.8262999057769775, 2.8257999420166016, 2.8257999420166016, 2.825700044631958, 2.82450008392334, 2.824199914932251, 2.823899984359741, 2.8225998878479004, 2.822499990463257, 2.8222999572753906, 2.822200059890747, 2.8213999271392822, 2.8213000297546387, 2.821199893951416, 2.8206000328063965, 2.9742000102996826, 2.9737000465393066, 2.9735000133514404, 2.972599983215332, 2.972399950027466, 2.9723000526428223, 2.9723000526428223, 2.9721999168395996, 2.9721999168395996, 2.9721999168395996, 2.9718000888824463, 2.971400022506714, 2.971400022506714, 2.9711999893188477, 2.970099925994873, 2.9697999954223633, 2.969599962234497, 2.9695000648498535, 2.9691998958587646, 2.969099998474121, 2.9690001010894775, 2.9679999351501465, 2.9677999019622803, 2.9674999713897705, 2.9672999382019043, 2.967099905014038, 2.9667000770568848, 2.9663000106811523, 2.966200113296509, 2.966099977493286, 2.9807000160217285, 2.980600118637085, 2.9804000854492188, 2.978600025177002, 2.978300094604492, 2.9779000282287598, 2.9779000282287598, 2.977099895477295, 2.976599931716919, 2.976300001144409, 2.9753000736236572, 2.975100040435791, 2.9749999046325684, 2.974400043487549, 2.973599910736084, 2.973400115966797, 2.973099946975708, 2.972899913787842, 2.972599983215332, 2.972399950027466, 2.971400022506714, 2.9707999229431152, 2.9702000617980957, 2.9700000286102295, 2.9697999954223633, 2.9683001041412354, 2.9674999713897705, 2.9663000106811523, 2.9663000106811523, 2.96589994430542, 2.843400001525879, 2.987499952316284, 2.986799955368042, 2.986599922180176, 2.9865000247955322, 2.9855000972747803, 2.9855000972747803, 2.9848999977111816, 2.9821999073028564, 2.981600046157837, 2.9814000129699707, 2.9807000160217285, 2.9804000854492188, 2.9804000854492188, 2.9802000522613525, 2.9781999588012695, 2.977799892425537, 2.9772000312805176, 2.976599931716919, 2.9763998985290527, 2.9758999347686768, 2.974299907684326, 2.974299907684326, 2.974100112915039, 2.9737000465393066, 2.973599910736084, 2.9719998836517334, 2.9719998836517334, 2.9716999530792236, 2.9711999893188477, 2.9711999893188477, 2.9707999229431152, 2.9409000873565674, 2.493799924850464, 3.0388998985290527, 3.0387001037597656, 3.0376999378204346, 3.0367000102996826, 3.035799980163574, 3.035599946975708, 3.035399913787842, 3.034600019454956, 3.034600019454956, 3.03439998626709, 3.0334999561309814, 3.0332999229431152, 3.032900094985962, 3.032900094985962, 3.0309998989105225, 3.0302000045776367, 3.0292000770568848, 3.0292000770568848, 3.028899908065796, 3.028700113296509, 3.0272998809814453, 3.026700019836426, 3.025099992752075, 3.023400068283081, 3.022900104522705, 3.022700071334839, 3.022599935531616, 3.022200107574463, 3.021199941635132, 3.021199941635132, 3.0408999919891357, 3.040800094604492, 3.0404999256134033, 3.0401999950408936, 3.039799928665161, 3.0397000312805176, 3.038599967956543, 3.0380001068115234, 3.0378000736236572, 3.0378000736236572, 3.0376999378204346, 3.037600040435791, 3.036600112915039, 3.035599946975708, 3.0353000164031982, 3.0350000858306885, 3.0348000526428223, 3.0348000526428223, 3.0343000888824463, 3.0339999198913574, 3.033099889755249, 3.032599925994873, 3.032099962234497, 3.031599998474121, 3.031100034713745, 3.0306999683380127, 3.029400110244751, 3.029099941253662, 3.028899908065796, 3.028700113296509, 3.0731000900268555, 3.0727999210357666, 3.0713999271392822, 3.0713000297546387, 3.071199893951416, 3.071000099182129, 3.0706000328063965, 3.0703001022338867, 3.06820011138916, 3.0680999755859375, 3.067699909210205, 3.0673000812530518, 3.065999984741211, 3.0657999515533447, 3.0645999908447266, 3.0641000270843506, 3.0629000663757324, 3.0622000694274902, 3.0620999336242676, 3.0615999698638916, 3.0611000061035156, 3.0608999729156494, 3.0606000423431396, 3.0606000423431396, 3.0604000091552734, 3.06030011177063, 3.0601000785827637, 3.0597000122070312, 3.0587000846862793, 3.056999921798706, 3.0752999782562256, 3.075200080871582, 3.0736000537872314, 3.072700023651123, 3.0725998878479004, 3.0722999572753906, 3.072000026702881, 3.071899890899658, 3.0699000358581543, 3.06850004196167, 3.0676000118255615, 3.067500114440918, 3.067199945449829, 3.066800117492676, 3.0657999515533447, 3.0652999877929688, 3.06469988822937, 3.064500093460083, 3.064500093460083, 3.064500093460083, 3.0631000995635986, 3.0625998973846436, 3.061300039291382, 3.059799909591675, 3.059799909591675, 3.0597000122070312, 3.059000015258789, 3.058000087738037, 3.057800054550171, 3.057300090789795, 2.9786999225616455, 3.085400104522705, 3.0848000049591064, 3.084700107574463, 3.0845999717712402, 3.083199977874756, 3.081700086593628, 3.0815000534057617, 3.0810000896453857, 3.080399990081787, 3.078399896621704, 3.0782999992370605, 3.078200101852417, 3.0778000354766846, 3.0776000022888184, 3.077500104904175, 3.0773000717163086, 3.076900005340576, 3.07669997215271, 3.0766000747680664, 3.075700044631958, 3.0752999782562256, 3.075000047683716, 3.072999954223633, 3.071700096130371, 3.071500062942505, 3.069700002670288, 3.0696001052856445, 3.0694000720977783, 3.0685999393463135, 3.067699909210205, 3.067699909210205, 3.085700035095215, 3.085099935531616, 3.085099935531616, 3.084700107574463, 3.0845000743865967, 3.0841000080108643, 3.083699941635132, 3.082900047302246, 3.0827999114990234, 3.0826001167297363, 3.0820999145507812, 3.0815999507904053, 3.0813000202178955, 3.080699920654297, 3.0806000232696533, 3.080399990081787, 3.079699993133545, 3.078700065612793, 3.078700065612793, 3.077699899673462, 3.077699899673462, 3.0759999752044678, 3.0755999088287354, 3.0752999782562256, 3.074899911880493, 3.074199914932251, 3.0729000568389893, 3.0720999240875244, 3.069999933242798, 3.0699000358581543, 3.0696001052856445, 3.1110000610351562, 3.1098999977111816, 3.1085000038146973, 3.1070001125335693, 3.105600118637085, 3.10479998588562, 3.104599952697754, 3.1043999195098877, 3.1038999557495117, 3.103100061416626, 3.102799892425537, 3.1026999950408936, 3.101799964904785, 3.099900007247925, 3.0996999740600586, 3.099600076675415, 3.0987000465393066, 3.098599910736084, 3.0971999168395996, 3.095599889755249, 3.0952999591827393, 3.093600034713745, 3.092900037765503, 3.0906999111175537, 3.0905001163482666, 3.0903000831604004, 3.0892999172210693, 3.088200092315674, 3.0880000591278076, 3.087899923324585, 3.1577000617980957, 3.1575000286102295, 3.157099962234497, 3.156599998474121, 3.1563000679016113, 3.1549999713897705, 3.1542999744415283, 3.1524999141693115, 3.152100086212158, 3.150599956512451, 3.147700071334839, 3.1473000049591064, 3.1466000080108643, 3.145699977874756, 3.1452999114990234, 3.1451001167297363, 3.1445999145507812, 3.1428000926971436, 3.1426000595092773, 3.1424999237060547, 3.141900062561035, 3.141900062561035, 3.1412999629974365, 3.1407999992370605, 3.1405999660491943, 3.1401000022888184, 3.1396000385284424, 3.1393001079559326, 3.13919997215271, 3.1377999782562256, 2.163800001144409, 3.2727999687194824, 3.27239990234375, 3.2720000743865967, 3.271899938583374, 3.2716000080108643, 3.271399974822998, 3.271199941635132, 3.269200086593628, 3.268199920654297, 3.267899990081787, 3.2667999267578125, 3.2664999961853027, 3.265399932861328, 3.265199899673462, 3.2651000022888184, 3.264699935913086, 3.2644999027252197, 3.264400005340576, 3.2632999420166016, 3.262200117111206, 3.262200117111206, 3.2611000537872314, 3.2609000205993652, 3.260699987411499, 3.260499954223633, 3.2600998878479004, 3.25819993019104, 3.2576000690460205, 3.2574000358581543, 3.257200002670288, 3.209399938583374, 3.301500082015991, 3.301500082015991, 3.3006999492645264, 3.300299882888794, 3.299799919128418, 3.2995998859405518, 3.298099994659424, 3.2980000972747803, 3.2960000038146973, 3.2960000038146973, 3.2959001064300537, 3.2936999797821045, 3.291300058364868, 3.2911999225616455, 3.290800094604492, 3.290299892425537, 3.289400100708008, 3.2885000705718994, 3.2883999347686768, 3.2876999378204346, 3.2873001098632812, 3.2862000465393066, 3.284899950027466, 3.2827000617980957, 3.2827000617980957, 3.2825000286102295, 3.282399892807007, 3.281100034713745, 3.2797999382019043, 3.2783000469207764, 3.243000030517578, 3.130000114440918, 3.35509991645813, 3.3545000553131104, 3.3534998893737793, 3.3529999256134033, 3.351300001144409, 3.3508999347686768, 3.350600004196167, 3.3503000736236572, 3.3499999046325684, 3.3496999740600586, 3.348900079727173, 3.3477001190185547, 3.347599983215332, 3.3468000888824463, 3.3466999530792236, 3.345099925994873, 3.344899892807007, 3.344899892807007, 3.344599962234497, 3.344399929046631, 3.343899965286255, 3.343600034713745, 3.343600034713745, 3.343600034713745, 3.342900037765503, 3.341599941253662, 3.3415000438690186, 3.3396999835968018, 3.338599920272827, 3.337100028991699, 3.3259999752044678, 3.448499917984009, 3.4484000205993652, 3.4472999572753906, 3.446700096130371, 3.4433999061584473, 3.4428999423980713, 3.441999912261963, 3.4407999515533447, 3.439300060272217, 3.4386000633239746, 3.4379000663757324, 3.4377999305725098, 3.4368999004364014, 3.4365999698638916, 3.436000108718872, 3.4354000091552734, 3.434299945831299, 3.434299945831299, 3.4339001178741455, 3.4335999488830566, 3.4330999851226807, 3.4328999519348145, 3.432800054550171, 3.4321999549865723, 3.43149995803833, 3.4310998916625977, 3.4309000968933105, 3.4305999279022217, 3.4296000003814697, 3.428800106048584]}, \"token.table\": {\"Topic\": [8, 19, 7, 2, 1, 12, 1, 1, 14, 13, 4, 19, 2, 13, 16, 5, 8, 5, 15, 13, 3, 7, 17, 18, 9, 10, 12, 20, 9, 10, 5, 20, 13, 1, 6, 13, 2, 19, 17, 11, 13, 7, 20, 14, 12, 16, 3, 18, 18, 13, 1, 19, 15, 1, 10, 13, 6, 1, 3, 4, 5, 7, 14, 18, 11, 2, 12, 6, 6, 19, 20, 3, 6, 18, 12, 8, 5, 15, 19, 4, 12, 6, 19, 15, 6, 11, 2, 13, 1, 19, 9, 8, 18, 19, 8, 20, 16, 15, 17, 6, 15, 15, 16, 17, 10, 2, 7, 9, 8, 11, 19, 20, 17, 10, 16, 14, 8, 9, 11, 20, 19, 3, 15, 20, 12, 20, 7, 4, 10, 11, 11, 13, 5, 11, 13, 12, 12, 1, 18, 13, 10, 5, 11, 4, 7, 16, 18, 18, 18, 18, 7, 18, 2, 6, 16, 6, 1, 19, 11, 10, 7, 20, 14, 13, 15, 9, 18, 15, 11, 12, 19, 12, 10, 19, 5, 13, 14, 17, 13, 15, 9, 3, 13, 18, 9, 17, 11, 17, 19, 16, 1, 6, 17, 5, 20, 13, 17, 15, 19, 8, 8, 4, 1, 2, 3, 4, 5, 6, 7, 8, 9, 10, 11, 12, 13, 14, 15, 16, 17, 18, 19, 20, 6, 6, 10, 15, 2, 1, 12, 15, 9, 9, 16, 19, 17, 10, 15, 10, 3, 10, 12, 4, 18, 17, 9, 10, 9, 18, 13, 8, 8, 13, 9, 9, 7, 14, 8, 11, 16, 2, 13, 10, 14, 1, 2, 3, 4, 5, 6, 7, 8, 9, 10, 11, 12, 13, 14, 15, 16, 17, 18, 19, 20, 18, 1, 16, 10, 4, 8, 1, 5, 1, 17, 8, 20, 19, 20, 5, 11, 2, 18, 5, 12, 1, 11, 7, 16, 11, 4, 5, 20, 1, 9, 3, 4, 9, 7, 17, 17, 13, 15, 18, 7, 20, 3, 5, 14, 14, 16, 1, 11, 18, 15, 16, 9, 19, 14, 16, 19, 1, 14, 12, 9, 7, 11, 14, 5, 13, 8, 4, 12, 2, 4, 3, 4, 4, 20, 17, 3, 13, 7, 5, 15, 10, 8, 20, 8, 19, 13, 1, 16, 8, 14, 11, 8, 9, 4, 6, 3, 12, 4, 10, 15, 8, 3, 16, 12, 5, 11, 11, 7, 6, 3, 6, 16, 17, 2, 6, 9, 12, 4, 16, 8, 5, 15, 16, 1, 13, 7, 8, 18, 14, 15, 6, 2, 4, 4, 13, 16, 10, 14, 20, 19, 2, 7, 6, 2, 4, 18, 15, 20, 9, 10, 17, 6, 13, 3, 14, 4, 17, 2, 4, 6, 20, 1, 16, 11, 6, 2, 6, 12, 14, 15, 10, 3, 19, 3, 1, 11, 13, 8, 7, 14, 14, 6, 11, 18, 1, 7, 5, 18, 12, 20, 1, 14, 9, 9, 16, 13, 11, 6, 7, 12, 7, 6, 3, 3, 15, 2, 3, 3, 4, 4, 3, 17, 16, 2, 16, 3, 20, 14, 14, 5, 15, 4, 4, 1, 2, 4, 5, 9, 11, 12, 15, 16, 18, 16, 10, 17, 20, 9, 18, 10, 5, 20, 12, 2, 1, 7, 18, 5, 9, 14, 5, 18, 7, 13, 8, 3, 20, 7, 9, 18, 15, 16, 5, 14, 14, 5, 6, 17, 18, 20, 19, 5, 17, 14, 12, 4, 3, 15, 15, 3, 15, 12, 3, 4, 20, 18, 1, 7, 7, 12, 17, 1, 17, 14, 5, 9, 11, 11, 2, 10, 8, 11, 19, 11, 10, 1, 2, 12, 17, 17, 20, 16, 8, 2, 19, 12, 13, 19, 10, 16, 17, 19, 7, 16, 4, 8, 6, 17, 9, 2, 6, 2, 3, 14, 4, 14, 3, 19, 7, 20, 5, 8, 10, 5, 11, 2, 7, 19, 20, 2, 8, 6, 8, 5, 5, 17, 3, 15, 7, 2, 18, 8, 1, 19, 1, 10, 9, 14, 18, 14, 11, 18, 13, 3, 14, 2, 9, 4, 10, 10, 8, 5, 11, 9, 12, 17, 12, 20, 2], \"Freq\": [0.9760823845863342, 0.9924764633178711, 0.9881472587585449, 0.9905705451965332, 0.9987822771072388, 0.9917768239974976, 0.9947519302368164, 0.9945212006568909, 0.9904406070709229, 0.9959626197814941, 0.994663655757904, 0.9793443083763123, 0.997897207736969, 0.9970937371253967, 0.9812803864479065, 0.9958042502403259, 0.998759388923645, 0.997612714767456, 0.9993430972099304, 0.9747838377952576, 0.996036171913147, 0.9839907288551331, 0.9950953125953674, 0.997044563293457, 0.9750183820724487, 0.9955037236213684, 0.9921885132789612, 0.9959680438041687, 0.9994736313819885, 0.9939892888069153, 0.998380720615387, 0.9765554666519165, 0.9878098368644714, 0.9921709895133972, 0.9941253066062927, 0.9916233420372009, 0.9857735633850098, 0.9934501051902771, 0.976893961429596, 0.9926693439483643, 0.9910072088241577, 0.9959875345230103, 0.9893110394477844, 0.992469072341919, 0.9879802465438843, 0.9781556129455566, 0.996934175491333, 0.9933266043663025, 0.9843350052833557, 0.9805946946144104, 0.9978922009468079, 0.985684335231781, 0.9870885610580444, 0.9973561763763428, 0.9961428046226501, 0.9945531487464905, 0.9963976144790649, 0.014840886928141117, 0.014840886928141117, 0.014840886928141117, 0.014840886928141117, 0.8756123185157776, 0.014840886928141117, 0.014840886928141117, 0.9847951531410217, 0.9860872030258179, 0.9902641773223877, 0.9945045709609985, 0.9904324412345886, 0.9964679479598999, 0.9930469393730164, 0.9946501851081848, 0.9981672763824463, 0.9733954071998596, 0.9946061968803406, 0.9948727488517761, 0.9919788837432861, 0.9935262799263, 0.9913856983184814, 0.9985103607177734, 0.992762565612793, 0.9966127276420593, 0.9926551580429077, 0.9934226274490356, 0.9959158301353455, 0.992316484451294, 0.9993032217025757, 0.9980056285858154, 0.9965781569480896, 0.9960470795631409, 0.9787423014640808, 0.9961168169975281, 0.9735884070396423, 0.9951764345169067, 0.9879543781280518, 0.987870991230011, 0.9972202777862549, 0.9958757758140564, 0.9946465492248535, 0.9943953156471252, 0.9963222742080688, 0.9914214015007019, 0.9786440134048462, 0.9913569092750549, 0.9963855147361755, 0.9958414435386658, 0.9946387410163879, 0.9822226166725159, 0.9771521091461182, 0.9909972548484802, 0.9836256504058838, 0.9888632893562317, 0.9886586666107178, 0.9908443689346313, 0.981228768825531, 0.9956798553466797, 0.9512141346931458, 0.010228108614683151, 0.010228108614683151, 0.010228108614683151, 0.9959521293640137, 0.9985080361366272, 0.9878923892974854, 0.9803551435470581, 0.9836801886558533, 0.9954179525375366, 0.9959261417388916, 0.9952716827392578, 0.9939647316932678, 0.9977033138275146, 0.9982432126998901, 0.9849186539649963, 0.9966703057289124, 0.998851478099823, 0.995888352394104, 0.9990321397781372, 0.9928392171859741, 0.9980759024620056, 0.9989661574363708, 0.9881580471992493, 0.9904968738555908, 0.9987234473228455, 0.981755256652832, 0.9953482747077942, 0.9935430288314819, 0.9846341609954834, 0.9961839914321899, 0.9921947717666626, 0.9395779967308044, 0.9726038575172424, 0.9891753792762756, 0.9787074327468872, 0.999178946018219, 0.9940097332000732, 0.983927845954895, 0.9879887104034424, 0.9976196885108948, 0.9945372939109802, 0.9936501979827881, 0.9969752430915833, 0.9897278547286987, 0.9840116500854492, 0.9973536133766174, 0.9879415035247803, 0.9845018982887268, 0.9913543462753296, 0.980326771736145, 0.9874611496925354, 0.98807692527771, 0.9989868402481079, 0.9964378476142883, 0.9920437335968018, 0.993126392364502, 0.9798157811164856, 0.023412825539708138, 0.011706412769854069, 0.011706412769854069, 0.9365130662918091, 0.9905555844306946, 0.9687137603759766, 0.9974367022514343, 0.9927759766578674, 0.995373010635376, 0.9977263808250427, 0.9737159013748169, 0.990630567073822, 0.9918606877326965, 0.9886124730110168, 0.9899692535400391, 0.976820707321167, 0.9986961483955383, 0.9917941689491272, 0.9919281005859375, 0.9879436492919922, 0.9742895364761353, 0.9992350339889526, 0.9880504012107849, 0.9727867245674133, 0.981330931186676, 0.9799468517303467, 0.985080361366272, 0.9949021935462952, 0.010109697468578815, 0.010109697468578815, 0.02021939493715763, 0.010109697468578815, 0.02021939493715763, 0.010109697468578815, 0.060658182948827744, 0.6065818071365356, 0.010109697468578815, 0.02021939493715763, 0.04043878987431526, 0.02021939493715763, 0.030329091474413872, 0.030329091474413872, 0.010109697468578815, 0.010109697468578815, 0.010109697468578815, 0.02021939493715763, 0.010109697468578815, 0.030329091474413872, 0.9953848123550415, 0.9923332929611206, 0.9920998215675354, 0.9905876517295837, 0.9916096925735474, 0.9961206316947937, 0.994387686252594, 0.9998233318328857, 0.9937191009521484, 0.999032735824585, 0.9926608204841614, 0.9854192733764648, 0.9863110780715942, 0.9966638684272766, 0.9864853620529175, 0.9985408782958984, 0.9976626634597778, 0.9966291189193726, 0.997623085975647, 0.9937573075294495, 0.9833943843841553, 0.9973697066307068, 0.9962762594223022, 0.9918592572212219, 0.9931733012199402, 0.9747951626777649, 0.9895449876785278, 0.9892580509185791, 0.9969198107719421, 0.9826009273529053, 0.9968705773353577, 0.9931433200836182, 0.9836739897727966, 0.996355414390564, 0.9987463355064392, 0.9861262440681458, 0.9921756386756897, 0.9992062449455261, 0.9934760928153992, 0.9926065802574158, 0.986863374710083, 0.017548900097608566, 0.02924816682934761, 0.040947433561086655, 0.04679706692695618, 0.011699266731739044, 0.017548900097608566, 0.005849633365869522, 0.005849633365869522, 0.07604523748159409, 0.09359413385391235, 0.011699266731739044, 0.11699266731739044, 0.011699266731739044, 0.011699266731739044, 0.005849633365869522, 0.3685269057750702, 0.005849633365869522, 0.11699266731739044, 0.005849633365869522, 0.005849633365869522, 0.9981303811073303, 0.9959897994995117, 0.9914619326591492, 0.9881622791290283, 0.9967093467712402, 0.9935318231582642, 0.9962158203125, 0.999136209487915, 0.9968465566635132, 0.9962726831436157, 0.988821804523468, 0.9758893847465515, 0.9855217933654785, 0.9867574572563171, 0.9938751459121704, 0.9817528128623962, 0.9946203231811523, 0.9832848906517029, 0.9885934591293335, 0.9917198419570923, 0.9944429397583008, 0.9968785047531128, 0.9955336451530457, 0.995786190032959, 0.9811863899230957, 0.9947971701622009, 0.9936822056770325, 0.9736919403076172, 0.9925453662872314, 0.992885947227478, 0.9897605180740356, 0.9931876063346863, 0.9975733160972595, 0.9884453415870667, 0.9841533899307251, 0.9905153512954712, 0.9974522590637207, 0.9691299796104431, 0.9843144416809082, 0.99163818359375, 0.9833632707595825, 0.9920340180397034, 0.9972395896911621, 0.9970675110816956, 0.9965015649795532, 0.9934057593345642, 0.9945144653320312, 0.13233023881912231, 0.8380914926528931, 0.9939090609550476, 0.993118941783905, 0.9805829524993896, 0.9854052066802979, 0.9910870790481567, 0.9965683817863464, 0.9977697134017944, 0.9970247745513916, 0.988456666469574, 0.984128475189209, 0.9894558787345886, 0.9991183876991272, 0.9922738671302795, 0.9975042939186096, 0.9960646629333496, 0.9890317320823669, 0.9907717704772949, 0.9911938309669495, 0.9744811058044434, 0.9937335848808289, 0.9903804063796997, 0.9935262203216553, 0.9956307411193848, 0.9957985877990723, 0.9981125593185425, 0.9918996691703796, 0.9969629049301147, 0.992185652256012, 0.9946141839027405, 0.9974090456962585, 0.9905871152877808, 0.9978552460670471, 0.9892587065696716, 0.9795489311218262, 0.9888545870780945, 0.9909060597419739, 0.9974681735038757, 0.9950358271598816, 0.9798459410667419, 0.995349109172821, 0.9856776595115662, 0.9980949759483337, 0.9873214960098267, 0.9843580722808838, 0.9941118359565735, 0.9967028498649597, 0.9974217414855957, 0.9926669597625732, 0.993283748626709, 0.9931401014328003, 0.9886945486068726, 0.9976698756217957, 0.9969059228897095, 0.9990034103393555, 0.9984124302864075, 0.9988996386528015, 0.9906747341156006, 0.9842500686645508, 0.9949001669883728, 0.9940184354782104, 0.9955101013183594, 0.9896832704544067, 0.9743870496749878, 0.9947668313980103, 0.989677369594574, 0.9934594035148621, 0.987313449382782, 0.997218132019043, 0.9959129691123962, 0.9985072016716003, 0.9994426965713501, 0.99283367395401, 0.9867254495620728, 0.9982491731643677, 0.9927337169647217, 0.9831315279006958, 0.9993813037872314, 0.9786418676376343, 0.9984543919563293, 0.9847673177719116, 0.9835672974586487, 0.9873108863830566, 0.9985299110412598, 0.9985771775245667, 0.9898297190666199, 0.9949784874916077, 0.980915367603302, 0.9940122365951538, 0.9778034687042236, 0.9768362641334534, 0.9939759373664856, 0.9914804697036743, 0.9875599145889282, 0.9901787638664246, 0.9970600605010986, 0.998860239982605, 0.9916707277297974, 0.9978310465812683, 0.9854139685630798, 0.9947958588600159, 0.9920894503593445, 0.9967775940895081, 0.9950808882713318, 0.9935237765312195, 0.9971295595169067, 0.9980717301368713, 0.994545042514801, 0.9830688834190369, 0.9933226704597473, 0.9982940554618835, 0.9950776100158691, 0.9785169959068298, 0.9949188828468323, 0.9979653358459473, 0.994348406791687, 0.9928625822067261, 0.9994901418685913, 0.9979969263076782, 0.9943470358848572, 0.9984426498413086, 0.9827486276626587, 0.9902141690254211, 0.9961233735084534, 0.9787115454673767, 0.9907398223876953, 0.996694803237915, 0.9916625618934631, 0.9746630191802979, 0.9848971962928772, 0.9994505643844604, 0.9895439147949219, 0.9923014044761658, 0.9923948049545288, 0.9934508800506592, 0.9863856434822083, 0.9938601851463318, 0.997502863407135, 0.9885230660438538, 0.9979928731918335, 0.9917641282081604, 0.9797298908233643, 0.9987818598747253, 0.997139573097229, 0.9929154515266418, 0.9948509335517883, 0.9828188419342041, 0.9953364133834839, 0.9936819076538086, 0.993229866027832, 0.9912987947463989, 0.9845058917999268, 0.9934418797492981, 0.9955570101737976, 0.9912227392196655, 0.9964912533760071, 0.9795886874198914, 0.9997073411941528, 0.992696225643158, 0.9986494183540344, 0.9944506287574768, 0.9946343302726746, 0.9984680414199829, 0.988653302192688, 0.9745492935180664, 0.9840150475502014, 0.9792477488517761, 0.9955906867980957, 0.9924219250679016, 0.9963091015815735, 0.9946795701980591, 0.9977777600288391, 0.9912665486335754, 0.995640218257904, 0.9933486580848694, 0.01677333004772663, 0.005591109860688448, 0.022364439442753792, 0.011182219721376896, 0.005591109860688448, 0.011182219721376896, 0.9057598114013672, 0.011182219721376896, 0.005591109860688448, 0.005591109860688448, 0.9990218877792358, 0.9987395405769348, 0.9850778579711914, 0.9979594349861145, 0.9871491193771362, 0.9988502860069275, 0.9979429841041565, 0.9961885809898376, 0.9815311431884766, 0.9820663332939148, 0.9829884171485901, 0.9963098764419556, 0.9899886250495911, 0.9884941577911377, 0.9961532950401306, 0.9948253035545349, 0.9884483218193054, 0.9970283508300781, 0.9979330897331238, 0.9871683716773987, 0.990173876285553, 0.9888027906417847, 0.9932444095611572, 0.9724503755569458, 0.9897871017456055, 0.9904481172561646, 0.9879220724105835, 0.9909205436706543, 0.9846353530883789, 0.9958544373512268, 0.9962985515594482, 0.9945676922798157, 0.9967784285545349, 0.9974173307418823, 0.9887449741363525, 0.9878219962120056, 0.9988003969192505, 0.9895450472831726, 0.988856315612793, 0.9928737878799438, 0.9884008765220642, 0.9852539896965027, 0.9908837080001831, 0.9931591153144836, 0.9897019863128662, 0.9940365552902222, 0.995967447757721, 0.973129391670227, 0.9886322617530823, 0.9951472282409668, 0.9978051781654358, 0.9879574179649353, 0.9938597679138184, 0.9955162405967712, 0.9941746592521667, 0.9920608401298523, 0.9979058504104614, 0.9929182529449463, 0.9981217384338379, 0.9953386783599854, 0.9929187893867493, 0.9950053691864014, 0.9872713088989258, 0.9958119988441467, 0.9848657846450806, 0.9935340881347656, 0.9943419098854065, 0.9879255294799805, 0.9967510104179382, 0.9751733541488647, 0.9974603056907654, 0.9936445355415344, 0.9961833953857422, 0.9995062351226807, 0.9881837368011475, 0.9938804507255554, 0.9795046448707581, 0.9852181077003479, 0.9790615439414978, 0.9904667139053345, 0.9944846630096436, 0.9949905276298523, 0.9821987748146057, 0.9866853356361389, 0.9830450415611267, 0.9941738247871399, 0.9854224324226379, 0.9782748222351074, 0.9863776564598083, 0.9893268346786499, 0.9929908514022827, 0.9925325512886047, 0.9898732900619507, 0.994732141494751, 0.9832549095153809, 0.9952008128166199, 0.9942567348480225, 0.992190420627594, 0.9934134483337402, 0.9978060722351074, 0.9936972260475159, 0.998496949672699, 0.9873860478401184, 0.9936081171035767, 0.989048957824707, 0.9917416572570801, 0.9773280024528503, 0.991919755935669, 0.9980855584144592, 0.9970801472663879, 0.9915950298309326, 0.9825993776321411, 0.9953441619873047, 0.998297929763794, 0.9799756407737732, 0.9790899753570557, 0.9978078007698059, 0.992053747177124, 0.988684892654419, 0.9883697032928467, 0.9959813356399536, 0.9952518939971924, 0.9836855530738831, 0.9982507228851318, 0.9879021048545837, 0.9954891800880432, 0.9919834136962891, 0.979313850402832, 0.9977783560752869, 0.99573814868927, 0.9955570101737976, 0.9961141347885132, 0.998464822769165, 0.9718309044837952, 0.9980019330978394, 0.9885364174842834, 0.9976093769073486, 0.9915072917938232, 0.9923205971717834, 0.986928403377533, 0.9968917369842529, 0.9919958710670471, 0.9959579706192017, 0.973963737487793, 0.9976789355278015, 0.9846633076667786, 0.9840139746665955, 0.9980207681655884, 0.9948381781578064, 0.9978373050689697, 0.996599018573761, 0.9863390922546387, 0.9968248605728149, 0.9723063111305237, 0.9859540462493896, 0.9859877824783325], \"Term\": [\"accesso\", \"accordo\", \"acqua\", \"affrontare\", \"aggiornamento\", \"agosto\", \"aiutare\", \"aiuto\", \"albanese\", \"almeno\", \"alto\", \"ambiente\", \"amico\", \"ammalare\", \"amore\", \"amp\", \"ancora\", \"andare\", \"anno\", \"ansia\", \"anti\", \"anzi\", \"anziano\", \"aperto\", \"apertura\", \"app\", \"appello\", \"appena\", \"aprile\", \"aprire\", \"arrivare\", \"articolo\", \"asintomatico\", \"aspettare\", \"assembramento\", \"attenzione\", \"attesa\", \"attivo\", \"augurare\", \"aumentare\", \"aumento\", \"avere\", \"avviare\", \"azienda\", \"aziendere\", \"ballo\", \"bambino\", \"bar\", \"bare\", \"base\", \"bastare\", \"battere\", \"belgio\", \"bello\", \"bene\", \"bergamasco\", \"bergare\", \"bero\", \"bero\", \"bero\", \"bero\", \"bero\", \"bero\", \"bero\", \"biblioteco\", \"bisognare\", \"blocco\", \"bollettino\", \"bonus\", \"brescia\", \"breve\", \"brutto\", \"buono\", \"calciatore\", \"calcio\", \"caldo\", \"calo\", \"cambiare\", \"campagna\", \"campania\", \"campionatare\", \"cane\", \"canzone\", \"capello\", \"capire\", \"capo\", \"casa\", \"casi\", \"caso\", \"causa\", \"cazzo\", \"cercare\", \"certo\", \"checco\", \"chiamare\", \"chiarire\", \"chiedere\", \"chiudere\", \"chiuso\", \"cimitero\", \"cinese\", \"cio\", \"cioe\", \"citta\", \"cittadinanza\", \"cittadino\", \"civile\", \"cliente\", \"collaborazione\", \"colpa\", \"combattere\", \"commerciante\", \"comunale\", \"comune\", \"comunito\", \"comunque\", \"condividi\", \"condividi\", \"condividi\", \"condividi\", \"conferenza\", \"confermare\", \"confronto\", \"confusione\", \"congiunto\", \"conoscere\", \"consiglio\", \"contagi\", \"contagiare\", \"contagiato\", \"contagio\", \"contatto\", \"continuare\", \"conto\", \"controllo\", \"coronavirus\", \"corone\", \"cosa\", \"cosi\", \"costiero\", \"costituzione\", \"covid\", \"creare\", \"credere\", \"cremonare\", \"crescita\", \"crisi\", \"criticare\", \"criticitare\", \"crollo\", \"cura\", \"curo\", \"dare\", \"davvero\", \"debito\", \"deceduto\", \"decesso\", \"decidere\", \"decisione\", \"decreto\", \"dedicare\", \"democrazia\", \"denunciare\", \"desidere\", \"dibattito\", \"dichiarare\", \"difendere\", \"differenza\", \"dipendente\", \"dire\", \"diretta\", \"diretto\", \"diritto\", \"disagio\", \"disceso\", \"disceso\", \"disceso\", \"disceso\", \"discorso\", \"disinformazione\", \"distanza\", \"diventare\", \"domanda\", \"domani\", \"domenica\", \"domicilio\", \"donare\", \"donazione\", \"donna\", \"eccetera\", \"ecco\", \"economia\", \"edilizia\", \"effettuare\", \"elettorale\", \"emergenza\", \"entrare\", \"epidemio\", \"erogazione\", \"esistenza\", \"esperto\", \"essere\", \"estendere\", \"estendere\", \"estendere\", \"estendere\", \"estendere\", \"estendere\", \"estendere\", \"estendere\", \"estendere\", \"estendere\", \"estendere\", \"estendere\", \"estendere\", \"estendere\", \"estendere\", \"estendere\", \"estendere\", \"estendere\", \"estendere\", \"estendere\", \"euro\", \"evitare\", \"fa\", \"facilmente\", \"falso\", \"famiglia\", \"fanpage\", \"fare\", \"farmaco\", \"fase\", \"fattoquotidiano\", \"favore\", \"fermare\", \"figlio\", \"fila\", \"fine\", \"finire\", \"fino\", \"firmare\", \"fondo\", \"fonte\", \"forse\", \"forte\", \"foto\", \"frase\", \"frenare\", \"fronte\", \"funerale\", \"fuori\", \"gallero\", \"gatto\", \"generale\", \"genitore\", \"gente\", \"gia\", \"giocare\", \"giornalista\", \"giorno\", \"giovane\", \"giro\", \"giuseppeconteit\", \"gore\", \"gore\", \"gore\", \"gore\", \"gore\", \"gore\", \"gore\", \"gore\", \"gore\", \"gore\", \"gore\", \"gore\", \"gore\", \"gore\", \"gore\", \"gore\", \"gore\", \"gore\", \"gore\", \"gore\", \"governo\", \"grande\", \"grave\", \"greto\", \"guardare\", \"guarigione\", \"guarire\", \"guarito\", \"idea\", \"ieri\", \"immaginare\", \"immune\", \"imparare\", \"imprenditore\", \"impresa\", \"imprese\", \"incubo\", \"indicatore\", \"indicazione\", \"infettare\", \"infezione\", \"informazione\", \"iniziare\", \"inizio\", \"intanto\", \"integrazione\", \"intensivo\", \"interessante\", \"intervista\", \"inutile\", \"invece\", \"iorestoacasa\", \"iorestoacaso\", \"irpinia\", \"isolamento\", \"istitere\", \"italiano\", \"italiavivo\", \"jole\", \"kawasako\", \"lamentare\", \"lasciare\", \"lavorare\", \"lavoratore\", \"lavoro\", \"legare\", \"leggere\", \"lesione\", \"lesione\", \"libero\", \"liberto\", \"limitazione\", \"linea\", \"livello\", \"lockdown\", \"lodo\", \"lombardio\", \"lotta\", \"luned\\u00ec\", \"lungo\", \"maggio\", \"maggiore\", \"mai\", \"malato\", \"malattio\", \"male\", \"mamma\", \"mancanza\", \"mandare\", \"mangiare\", \"mano\", \"mare\", \"marzo\", \"mascherina\", \"mascherine\", \"matteorenzo\", \"medico\", \"meglio\", \"meno\", \"meritare\", \"mese\", \"messa\", \"messaggio\", \"meto\", \"metodo\", \"mettere\", \"mezzo\", \"migliaio\", \"migliore\", \"miliardo\", \"milione\", \"milioni\", \"minaccia\", \"ministro\", \"minuto\", \"misura\", \"modello\", \"modo\", \"molto\", \"momento\", \"mondo\", \"monitoraggio\", \"morire\", \"morte\", \"morto\", \"mostro\", \"movimento\", \"musico\", \"nascere\", \"nazionale\", \"neanche\", \"necessario\", \"negozio\", \"nero\", \"news\", \"non\", \"notizia\", \"notte\", \"numero\", \"nuovo\", \"obbligo\", \"occhio\", \"oggi\", \"online\", \"operare\", \"ora\", \"orario\", \"ordinanza\", \"organizzare\", \"orizzonte\", \"ormai\", \"ospedale\", \"paese\", \"pagare\", \"palermo\", \"palla\", \"pandemia\", \"pandemio\", \"pane\", \"paolo\", \"papa\", \"parchio\", \"parere\", \"parlamento\", \"parlare\", \"parola\", \"parte\", \"particolare\", \"partire\", \"passare\", \"passire\", \"paura\", \"paziente\", \"paziento\", \"pensare\", \"perdere\", \"pericoloso\", \"periodo\", \"persona\", \"personale\", \"piangere\", \"piano\", \"piazzapulito\", \"piemonto\", \"pieno\", \"piu\", \"po'\", \"poco\", \"poi\", \"polemica\", \"politica\", \"politico\", \"polizia\", \"polmonito\", \"portare\", \"porte\", \"porto\", \"positive\", \"positivo\", \"possibile\", \"posto\", \"potere\", \"povero\", \"precedente\", \"premier\", \"prendere\", \"preparare\", \"presidente\", \"prestire\", \"prezzo\", \"prima\", \"primo\", \"primomaggio\", \"problema\", \"professionista\", \"pronto\", \"proseguono\", \"prossimo\", \"protezione\", \"protocollo\", \"provincia\", \"pubblico\", \"punto\", \"pure\", \"purtroppo\", \"quarantena\", \"quasi\", \"qui\", \"quindi\", \"raccontare\", \"ragazzo\", \"ragione\", \"ragionevole\", \"rapporto\", \"reale\", \"record\", \"redditare\", \"reddito\", \"regionale\", \"regione\", \"regole\", \"rendere\", \"renzare\", \"renzi\", \"renzi\", \"renzi\", \"renzi\", \"renzi\", \"renzi\", \"renzi\", \"renzi\", \"renzi\", \"renzi\", \"renzo\", \"repubblica\", \"residenza\", \"restare\", \"riaperturare\", \"riaprire\", \"ricordare\", \"ricoverare\", \"ridere\", \"ridicolo\", \"ringraziare\", \"ripartire\", \"riprendere\", \"rischiare\", \"rischio\", \"rispettare\", \"rispondere\", \"risposta\", \"ristorante\", \"risultato\", \"ritornare\", \"ritrovare\", \"riuscire\", \"roba\", \"romano\", \"romare\", \"rosso\", \"russo\", \"sacrificio\", \"salire\", \"salute\", \"salvare\", \"salvino\", \"sanitario\", \"sanito\", \"santello\", \"sapere\", \"scattare\", \"scenario\", \"scendere\", \"scherzare\", \"scientifico\", \"scoprire\", \"scrivere\", \"scuola\", \"scusare\", \"secondo\", \"segretario\", \"seguire\", \"sembrare\", \"sempre\", \"senare\", \"senso\", \"sentire\", \"sera\", \"serie\", \"serio\", \"servire\", \"servizio\", \"settimana\", \"settore\", \"sicilio\", \"sicurezzo\", \"sierologico\", \"signore\", \"silenzio\", \"sindaco\", \"sistema\", \"situazione\", \"smog\", \"sociale\", \"soggetto\", \"soldo\", \"solo\", \"soluzione\", \"soprattutto\", \"sopravvivere\", \"sostegno\", \"spaventare\", \"spazio\", \"speciale\", \"speranza\", \"sperare\", \"sperimentazione\", \"spesa\", \"spiagge\", \"sport\", \"sportivo\", \"stabile\", \"stagione\", \"stampa\", \"stare\", \"stipendio\", \"stop\", \"strano\", \"studio\", \"subito\", \"superare\", \"svezia\", \"sviluppere\", \"tagliare\", \"tampone\", \"tantissimo\", \"tanto\", \"tasso\", \"tavolo\", \"telefono\", \"temere\", \"tempo\", \"tenere\", \"terapio\", \"terremoto\", \"test\", \"testa\", \"testo\", \"tipo\", \"tornare\", \"toscano\", \"totale\", \"tracciamento\", \"trasmettere\", \"treno\", \"triste\", \"trovare\", \"trump\", \"tv\", \"ufficio\", \"ultimatum\", \"ultimo\", \"unico\", \"uomo\", \"usare\", \"uscire\", \"vacanza\", \"vedere\", \"vendita\", \"venire\", \"vergogna\", \"vergognare\", \"vergogno\", \"via\", \"viaggiare\", \"video\", \"vietare\", \"virus\", \"visita\", \"vista\", \"vita\", \"vittimo\", \"vivere\", \"volere\", \"volontario\", \"volta\", \"volto\", \"youtuba\", \"zalone\"]}, \"R\": 30, \"lambda.step\": 0.01, \"plot.opts\": {\"xlab\": \"PC1\", \"ylab\": \"PC2\"}, \"topic.order\": [15, 3, 16, 5, 6, 2, 4, 8, 10, 18, 14, 7, 11, 13, 17, 9, 1, 19, 12, 20]};\n",
              "\n",
              "function LDAvis_load_lib(url, callback){\n",
              "  var s = document.createElement('script');\n",
              "  s.src = url;\n",
              "  s.async = true;\n",
              "  s.onreadystatechange = s.onload = callback;\n",
              "  s.onerror = function(){console.warn(\"failed to load library \" + url);};\n",
              "  document.getElementsByTagName(\"head\")[0].appendChild(s);\n",
              "}\n",
              "\n",
              "if(typeof(LDAvis) !== \"undefined\"){\n",
              "   // already loaded: just create the visualization\n",
              "   !function(LDAvis){\n",
              "       new LDAvis(\"#\" + \"ldavis_el1231407130692888084607872782\", ldavis_el1231407130692888084607872782_data);\n",
              "   }(LDAvis);\n",
              "}else if(typeof define === \"function\" && define.amd){\n",
              "   // require.js is available: use it to load d3/LDAvis\n",
              "   require.config({paths: {d3: \"https://cdnjs.cloudflare.com/ajax/libs/d3/3.5.5/d3.min\"}});\n",
              "   require([\"d3\"], function(d3){\n",
              "      window.d3 = d3;\n",
              "      LDAvis_load_lib(\"https://cdn.rawgit.com/bmabey/pyLDAvis/files/ldavis.v1.0.0.js\", function(){\n",
              "        new LDAvis(\"#\" + \"ldavis_el1231407130692888084607872782\", ldavis_el1231407130692888084607872782_data);\n",
              "      });\n",
              "    });\n",
              "}else{\n",
              "    // require.js not available: dynamically load d3 & LDAvis\n",
              "    LDAvis_load_lib(\"https://cdnjs.cloudflare.com/ajax/libs/d3/3.5.5/d3.min.js\", function(){\n",
              "         LDAvis_load_lib(\"https://cdn.rawgit.com/bmabey/pyLDAvis/files/ldavis.v1.0.0.js\", function(){\n",
              "                 new LDAvis(\"#\" + \"ldavis_el1231407130692888084607872782\", ldavis_el1231407130692888084607872782_data);\n",
              "            })\n",
              "         });\n",
              "}\n",
              "</script>"
            ],
            "text/plain": [
              "PreparedData(topic_coordinates=              x         y  topics  cluster      Freq\n",
              "topic                                               \n",
              "14     0.084435  0.249370       1        1  7.971636\n",
              "2      0.373116 -0.136048       2        1  7.480345\n",
              "15     0.061786  0.264377       3        1  6.655283\n",
              "4      0.010814  0.010917       4        1  6.058088\n",
              "5     -0.011134 -0.019097       5        1  5.891833\n",
              "1     -0.030929 -0.024621       6        1  5.096197\n",
              "3     -0.022471 -0.024312       7        1  5.071797\n",
              "7     -0.026690 -0.022839       8        1  5.038411\n",
              "9     -0.037147 -0.020208       9        1  4.784648\n",
              "17    -0.025353 -0.014591      10        1  4.771996\n",
              "13    -0.041167 -0.026025      11        1  4.621942\n",
              "6     -0.033372 -0.023293      12        1  4.614625\n",
              "10    -0.039556 -0.025629      13        1  4.566985\n",
              "12    -0.024862 -0.026322      14        1  4.563425\n",
              "16    -0.025353 -0.027383      15        1  4.453968\n",
              "8     -0.034174 -0.017892      16        1  4.248828\n",
              "0     -0.041713 -0.030613      17        1  3.778346\n",
              "18    -0.044447 -0.025240      18        1  3.678109\n",
              "11    -0.043949 -0.029682      19        1  3.482586\n",
              "19    -0.047834 -0.030868      20        1  3.170953, topic_info=              Term         Freq        Total Category  logprob  loglift\n",
              "22            fare  2421.000000  2421.000000  Default  30.0000  30.0000\n",
              "285     quarantena  2035.000000  2035.000000  Default  29.0000  29.0000\n",
              "10           nuovo  1451.000000  1451.000000  Default  28.0000  28.0000\n",
              "189            piu  1639.000000  1639.000000  Default  27.0000  27.0000\n",
              "134    coronavirus  1333.000000  1333.000000  Default  26.0000  26.0000\n",
              "...            ...          ...          ...      ...      ...      ...\n",
              "4112  interessante    42.280369    43.134792  Topic20  -5.1172   3.4311\n",
              "4382   particolare    41.767258    42.621681  Topic20  -5.1294   3.4309\n",
              "2882      telefono    41.096691    41.951115  Topic20  -5.1456   3.4306\n",
              "810           roba    39.250450    40.104874  Topic20  -5.1915   3.4296\n",
              "3645    democrazia    37.763004    38.617428  Topic20  -5.2302   3.4288\n",
              "\n",
              "[642 rows x 6 columns], token_table=       Topic      Freq           Term\n",
              "term                                 \n",
              "2842       8  0.976082        accesso\n",
              "1104      19  0.992476        accordo\n",
              "2899       7  0.988147          acqua\n",
              "2315       2  0.990571     affrontare\n",
              "801        1  0.998782  aggiornamento\n",
              "...      ...       ...            ...\n",
              "2857      12  0.986339     volontario\n",
              "1110      17  0.996825          volta\n",
              "4785      12  0.972306          volto\n",
              "77        20  0.985954        youtuba\n",
              "14537      2  0.985988         zalone\n",
              "\n",
              "[672 rows x 3 columns], R=30, lambda_step=0.01, plot_opts={'xlab': 'PC1', 'ylab': 'PC2'}, topic_order=[15, 3, 16, 5, 6, 2, 4, 8, 10, 18, 14, 7, 11, 13, 17, 9, 1, 19, 12, 20])"
            ]
          },
          "metadata": {
            "tags": []
          },
          "execution_count": 22
        }
      ]
    },
    {
      "cell_type": "code",
      "metadata": {
        "id": "2OghT6Fsch1l"
      },
      "source": [
        "top_words_per_topic = []\n",
        "for t in range(lda_model.num_topics):\n",
        "    top_words_per_topic.extend([(t, ) + x for x in lda_model.show_topic(t, topn = 10)])\n",
        "\n",
        "pd.DataFrame(top_words_per_topic, columns=['Topic', 'Word', 'P']).to_csv(\"<file path>\")\n"
      ],
      "execution_count": null,
      "outputs": []
    },
    {
      "cell_type": "code",
      "metadata": {
        "id": "BXBjbIC-V-lX"
      },
      "source": [
        "#@title Load saved model and print topic from there\n",
        "## Save model to disk.\n",
        "#lda = LdaModel.load(<model path>)\n",
        "#pprint(lda_model.print_topics())"
      ],
      "execution_count": null,
      "outputs": []
    }
  ]
}