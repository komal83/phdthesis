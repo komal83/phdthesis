{
  "nbformat": 4,
  "nbformat_minor": 0,
  "metadata": {
    "colab": {
      "name": "AlBERTo template.ipynb",
      "provenance": [],
      "collapsed_sections": [],
      "include_colab_link": true
    },
    "kernelspec": {
      "name": "python3",
      "display_name": "Python 3"
    },
    "accelerator": "GPU"
  },
  "cells": [
    {
      "cell_type": "markdown",
      "metadata": {
        "id": "view-in-github",
        "colab_type": "text"
      },
      "source": [
        "<a href=\"https://colab.research.google.com/github/komal83/phdthesis/blob/main/AlBERTo_template.ipynb\" target=\"_parent\"><img src=\"https://colab.research.google.com/assets/colab-badge.svg\" alt=\"Open In Colab\"/></a>"
      ]
    },
    {
      "cell_type": "markdown",
      "metadata": {
        "id": "JMQGveOeBqYc"
      },
      "source": [
        "This script predicts the presence of hate speeech or not using AlBERToand taking as inputs Twita tweets as .bz files"
      ]
    },
    {
      "cell_type": "code",
      "metadata": {
        "id": "OW7k7yQfBL4k"
      },
      "source": [
        "# @title Preparation\n",
        "!pip install -q keras-bert keras-rectified-adam\n"
      ],
      "execution_count": null,
      "outputs": []
    },
    {
      "cell_type": "code",
      "metadata": {
        "id": "s0ELl-0R5bZn"
      },
      "source": [
        "# @title Import from GPU bert ijcai\n",
        "%tensorflow_version 1.x\n",
        "import bz2  #use only when importing .bz files\n",
        "import os\n",
        "import tensorflow as tf\n",
        "import keras\n",
        "from keras_radam import RAdam\n",
        "from keras_bert import get_custom_objects\n",
        "import numpy as np\n",
        "from tqdm import tqdm\n",
        "from keras_bert import Tokenizer\n",
        "import pandas as pd\n",
        "import tensorflow.keras.backend as K\n",
        "import sys\n",
        "from sklearn.metrics import classification_report\n",
        "from google.colab import drive"
      ],
      "execution_count": null,
      "outputs": []
    },
    {
      "cell_type": "code",
      "metadata": {
        "id": "tt_hkbQLukoX"
      },
      "source": [
        "# @title Constants\n",
        "\n",
        "np.random.seed(999)\n",
        "SEQ_LEN = 128\n",
        "BATCH_SIZE = 8\n",
        "EPOCHS = 5\n",
        "LR = 1e-5"
      ],
      "execution_count": null,
      "outputs": []
    },
    {
      "cell_type": "code",
      "metadata": {
        "id": "JtW6FOSHq4PD",
        "colab": {
          "base_uri": "https://localhost:8080/",
          "height": 126
        },
        "outputId": "6e7b49bd-6aa5-48f1-c203-d0183b7d0f78"
      },
      "source": [
        "#@title Drive Mount\n",
        "#Only if data/models are saved in drive\n",
        "drive.mount('/content/drive')"
      ],
      "execution_count": null,
      "outputs": [
        {
          "output_type": "stream",
          "text": [
            "Go to this URL in a browser: https://accounts.google.com/o/oauth2/auth?client_id=947318989803-6bn6qk8qdgf4n4g3pfee6491hc0brc4i.apps.googleusercontent.com&redirect_uri=urn%3aietf%3awg%3aoauth%3a2.0%3aoob&response_type=code&scope=email%20https%3a%2f%2fwww.googleapis.com%2fauth%2fdocs.test%20https%3a%2f%2fwww.googleapis.com%2fauth%2fdrive%20https%3a%2f%2fwww.googleapis.com%2fauth%2fdrive.photos.readonly%20https%3a%2f%2fwww.googleapis.com%2fauth%2fpeopleapi.readonly\n",
            "\n",
            "Enter your authorization code:\n",
            "··········\n",
            "Mounted at /content/drive\n"
          ],
          "name": "stdout"
        }
      ]
    },
    {
      "cell_type": "code",
      "metadata": {
        "id": "G8ABh2SHumdD"
      },
      "source": [
        "# @title Environment\n",
        "\n",
        "pretrained_path = '#your path to albert_tweets_uncased_L-12_H-768_A-12'\n",
        "config_path = os.path.join(pretrained_path, <bert_config.json>)\n",
        "checkpoint_path = os.path.join(pretrained_path, <model.ckpt-1000000>)\n",
        "vocab_path = os.path.join(pretrained_path, <vocabulary_lower_case_128.txt>)"
      ],
      "execution_count": null,
      "outputs": []
    },
    {
      "cell_type": "code",
      "metadata": {
        "id": "Rbfn0iIfuz1A"
      },
      "source": [
        "# @title Load Basic Model\n",
        "import codecs\n",
        "from keras_bert import load_trained_model_from_checkpoint\n",
        "\n",
        "token_dict = {}\n",
        "with codecs.open(vocab_path, 'r', 'utf8') as reader:\n",
        "    for line in reader:\n",
        "        token = line.strip()\n",
        "        token_dict[token] = len(token_dict)\n",
        "\n",
        "\n",
        "model = load_trained_model_from_checkpoint(\n",
        "    config_path,\n",
        "    checkpoint_path,\n",
        "    training=True,\n",
        "    trainable=True,\n",
        "    seq_len=SEQ_LEN,\n",
        ")"
      ],
      "execution_count": null,
      "outputs": []
    },
    {
      "cell_type": "code",
      "metadata": {
        "id": "edg3X8v-u0z_"
      },
      "source": [
        "# @title load train data  \n",
        "\n",
        "\n",
        "tokenizer = Tokenizer(token_dict)\n",
        "\n",
        "\n",
        "def load_data_train(path):\n",
        "    global tokenizer\n",
        "    indices, sentiments = [], []\n",
        "    #data= pd.read_csv(path,names=['tweet_id', 'text', 'label'],sep='\\t')\n",
        "    data= pd.read_csv(path,names=['tweet_id', 'text', 'label'])\n",
        "    for text in tqdm(data.text):\n",
        "        '''for folder, sentiment in (('neg', 0), ('pos', 1)):\n",
        "        folder = os.path.join(path, folder)\n",
        "        for name in tqdm(os.listdir(folder)):\n",
        "            with open(os.path.join(folder, name), 'r') as reader:\n",
        "                  text = reader.read()'''     \n",
        "        \n",
        "        ids, segments = tokenizer.encode(str(text).strip(), max_len=SEQ_LEN)\n",
        "        indices.append(ids)\n",
        "    #for sentiment in tqdm(data.label.replace({'no': 0, 'yes': 1})):\n",
        "    for sentiment in tqdm(data.label):   \n",
        "        #sentiments.append(sentiment)\n",
        "        #sentiments.append(eval(sentiment))\n",
        "        try:\n",
        "            sentiments.append(int(sentiment))\n",
        "        except:\n",
        "            print (sentiment)\n",
        "            print (type(sentiment))\n",
        "            sys.exit(0)\n",
        "    \n",
        "    items = list(zip(indices, sentiments))\n",
        "    np.random.shuffle(items)\n",
        "    indices, sentiments = zip(*items)\n",
        "    indices = np.array(indices)\n",
        "    mod = indices.shape[0] % BATCH_SIZE\n",
        "    if mod > 0:\n",
        "        indices, sentiments = indices[:-mod], sentiments[:-mod]\n",
        "    return [indices, np.zeros_like(indices)], np.array(sentiments)\n",
        "\n"
      ],
      "execution_count": null,
      "outputs": []
    },
    {
      "cell_type": "code",
      "metadata": {
        "id": "xu5uACAdbc-h"
      },
      "source": [
        "# @title load test data \n",
        "def load_data_test(path):\n",
        "    global tokenizer\n",
        "    indices = []\n",
        "    data= pd.read_csv(path)\n",
        "    for text in tqdm(data.text): \n",
        "        ids, segments = tokenizer.encode(str(text).strip(), max_len=SEQ_LEN)\n",
        "        indices.append(ids)\n",
        "    np.random.shuffle(indices)\n",
        "    indices = np.array(indices)\n",
        "    return [indices, np.zeros_like(indices)]"
      ],
      "execution_count": null,
      "outputs": []
    },
    {
      "cell_type": "code",
      "metadata": {
        "id": "epRYdErmvmcr",
        "colab": {
          "base_uri": "https://localhost:8080/",
          "height": 53
        },
        "outputId": "3ffc0e23-ec89-4f20-a779-ca7287074625"
      },
      "source": [
        "# @title  Load Traing Data\n",
        "train_x, train_y = load_data_train('<2019_02_k.csv>')\n",
        "#print(train_x)"
      ],
      "execution_count": null,
      "outputs": [
        {
          "output_type": "stream",
          "text": [
            "100%|██████████| 2000/2000 [00:00<00:00, 2195.81it/s]\n",
            "100%|██████████| 2000/2000 [00:00<00:00, 883383.32it/s]\n"
          ],
          "name": "stderr"
        }
      ]
    },
    {
      "cell_type": "code",
      "metadata": {
        "id": "X8UW_Zfkvruh"
      },
      "source": [
        "# @title Build Custom Model\n",
        "\n",
        "\n",
        "inputs = model.inputs[:2]\n",
        "dense = model.get_layer('NSP-Dense').output\n",
        "outputs = keras.layers.Dense(units=2, activation='softmax')(dense)\n",
        "\n",
        "model = keras.models.Model(inputs, outputs)\n",
        "model.compile(\n",
        "    RAdam(lr=LR),\n",
        "    loss='sparse_categorical_crossentropy',\n",
        "    metrics=['sparse_categorical_accuracy'],\n",
        ")"
      ],
      "execution_count": null,
      "outputs": []
    },
    {
      "cell_type": "code",
      "metadata": {
        "id": "P7FCAtpev7Qv"
      },
      "source": [
        "# @title Initialize Variables\n",
        "\n",
        "\n",
        "sess = K.get_session()\n",
        "\n",
        "#sess= K.tensorflow_backend.set_session(sess)\n",
        "\n",
        "\n",
        "uninitialized_variables = set([i.decode('ascii') for i in sess.run(tf.report_uninitialized_variables())])\n",
        "init_op = tf.variables_initializer(\n",
        "    [v for v in tf.global_variables() if v.name.split(':')[0] in uninitialized_variables]\n",
        ")\n",
        "sess.run(init_op)"
      ],
      "execution_count": null,
      "outputs": []
    },
    {
      "cell_type": "code",
      "metadata": {
        "id": "dSQgI73iwHeP"
      },
      "source": [
        "# @title Fit\n",
        "\n",
        "model.fit(\n",
        "    train_x,\n",
        "    train_y,\n",
        "    epochs=EPOCHS,\n",
        "    batch_size=BATCH_SIZE,\n",
        ")"
      ],
      "execution_count": null,
      "outputs": []
    },
    {
      "cell_type": "code",
      "metadata": {
        "id": "VvJ960Z6naBh"
      },
      "source": [
        "#@title Load Test Data\n",
        "test_x=load_data_test('<40wita_2020-02-02.csv.bz2>')\n"
      ],
      "execution_count": null,
      "outputs": []
    },
    {
      "cell_type": "code",
      "metadata": {
        "id": "Cb-I2Fu0wKIh"
      },
      "source": [
        "# @title Predict\n",
        "predicts = model.predict(test_x, verbose=True).argmax(axis=-1)\n",
        "#print(predicts)"
      ],
      "execution_count": null,
      "outputs": []
    },
    {
      "cell_type": "code",
      "metadata": {
        "id": "xeZqusmgwc4P"
      },
      "source": [
        "# @title Data Writing predicted labels to input test file\n",
        "data2= test_x\n",
        "data2['predicted'] = list(predicts)\n",
        "#data2.to_csv(\"<40wita_2020-02-02_prediction.csv>\", index=False)\n",
        "\n",
        "#data2.to_csv('/content/drive/My Drive/COVID-19/40wita/40wita_2020-02-01_predicted.csv.bz2', index=False)"
      ],
      "execution_count": null,
      "outputs": []
    }
  ]
}